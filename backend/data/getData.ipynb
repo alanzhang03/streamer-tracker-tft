{
 "cells": [
  {
   "cell_type": "code",
   "execution_count": 3,
   "metadata": {},
   "outputs": [],
   "source": [
    "api_key = 'RGAPI-cb129971-94a0-43ea-93c5-60c4fad7ae5a'"
   ]
  },
  {
   "cell_type": "code",
   "execution_count": 4,
   "metadata": {},
   "outputs": [],
   "source": [
    "import requests"
   ]
  },
  {
   "cell_type": "code",
   "execution_count": 7,
   "metadata": {},
   "outputs": [
    {
     "name": "stdout",
     "output_type": "stream",
     "text": [
      "{'puuid': 'R8_dzuvxZm0VsqU-paXM3wijLavgPmiZDmKIHFm8HddnUGvsgHTlCQuWdlHNRJlBIaEFyZYD87Avug', 'gameName': 'clu', 'tagLine': 'clu1'}\n"
     ]
    }
   ],
   "source": [
    "r = requests.get(\"https://americas.api.riotgames.com/riot/account/v1/accounts/by-riot-id/clu/clu1?api_key=\" + api_key)\n",
    "print(r.json())"
   ]
  },
  {
   "cell_type": "code",
   "execution_count": 5,
   "metadata": {},
   "outputs": [],
   "source": [
    "# setsuko, soju, dishsoap\n",
    "streamers = ['e62ZthNQBc1bjVfXrjDvNIQV-0Bd7GUeaRv_fiZqx5nc5OXaY6OAmM4wav043AJgxKQShtA1s9IIOg', 'hVi-4fc19ymaRf4HvUmHNkZCoALJPUXgGKcKGgBlLZTqYZRVtQwglGQCIBj0jou0wA35CcH8sdeEgw', 'NUnja2Bl0CPRiimqr1PesnOnDsxXa6eAg5xRhNVBdxgAzBopnpcWNTZZ9r9YjNhEtf5tx2DkvXdJ9Q']"
   ]
  },
  {
   "cell_type": "code",
   "execution_count": 9,
   "metadata": {},
   "outputs": [],
   "source": [
    "# for streamer_puuid in streamers:\n",
    "#   matches = requests.get(\"https://americas.api.riotgames.com/tft/match/v1/matches/by-puuid/\" + streamer_puuid + \"&api_key=\" + api_key)\n"
   ]
  },
  {
   "cell_type": "code",
   "execution_count": 2,
   "metadata": {},
   "outputs": [
    {
     "name": "stdout",
     "output_type": "stream",
     "text": [
      "Current time: 2024-10-01 20:08:22.411854+00:00\n",
      "PostgreSQL version: PostgreSQL 16.4 on x86_64-pc-linux-gnu, compiled by gcc (Debian 10.2.1-6) 10.2.1 20210110, 64-bit\n"
     ]
    }
   ],
   "source": [
    "# connect to db\n",
    "import os\n",
    "import asyncio\n",
    "import asyncpg\n",
    "from dotenv import load_dotenv\n",
    "\n",
    "async def main():\n",
    "    # Load .env file\n",
    "    load_dotenv()\n",
    "\n",
    "    # Get the connection string from the environment variable\n",
    "    connection_string = os.getenv('DATABASE_URL')\n",
    "\n",
    "    # Create a connection pool\n",
    "    pool = await asyncpg.create_pool(connection_string)\n",
    "\n",
    "    # Acquire a connection from the pool\n",
    "    async with pool.acquire() as conn:\n",
    "        # Execute SQL commands to retrieve the current time and version from PostgreSQL\n",
    "        time = await conn.fetchval('SELECT NOW();')\n",
    "        version = await conn.fetchval('SELECT version();')\n",
    "\n",
    "    # Close the pool\n",
    "    await pool.close()\n",
    "\n",
    "    # Print the results\n",
    "    print('Current time:', time)\n",
    "    print('PostgreSQL version:', version)\n",
    "\n",
    "# Run the asynchronous main function\n",
    "await(main())"
   ]
  },
  {
   "cell_type": "code",
   "execution_count": 17,
   "metadata": {},
   "outputs": [
    {
     "name": "stdout",
     "output_type": "stream",
     "text": [
      "['TFT11_Augment_Epoch', 'TFT12_Augment_Faerie', 'TFT_Augment_RanduinsImmovableObject']\n",
      "['TFT_Augment_DoubleDown', 'TFT9_Augment_OldMansWalkingStick', 'TFT12_Augment_ScholarCrown']\n",
      "['TFT_Augment_DoubleDown', 'TFT12_Augment_Arcana', 'TFT9_Augment_Commander_FinalAscension']\n",
      "['TFT11_Augment_Slammin', 'TFT_Augment_Replication', 'TFT11_Augment_Calltochaos']\n",
      "['TFT12_Augment_BlasterCrest', 'TFT9_Augment_BalancedBudget2', 'TFT7_Augment_LuckyGlovesPlus']\n",
      "['TFT10_Augment_CrownGuarded', 'TFT12_Augment_HunterCrest', 'TFT_Augment_GiantAndMighty']\n",
      "['TFT12_Augment_Frost', 'TFT9_Augment_YouHaveMyBow', 'TFT12_Augment_FrostCrown']\n",
      "['TFT6_Augment_TradeSector', 'TFT10_Augment_LittleBuddies', 'TFT_Augment_GiantAndMighty']\n"
     ]
    }
   ],
   "source": [
    "puuid = streamers[0]\n",
    "\n",
    "# get recent match data\n",
    "matches = requests.get('https://americas.api.riotgames.com/tft/match/v1/matches/by-puuid/' + puuid + '/ids?start=0&count=20&api_key=' + api_key).json()\n",
    "# print(matches)\n",
    "\n",
    "# check that matches are not already in db\n",
    "# later :D:D:D\n",
    "\n",
    "# get the stuff\n",
    "# define carries and tier\n",
    "carries = []\n",
    "\n",
    "for match in matches:\n",
    "  match_data = requests.get('https://americas.api.riotgames.com/tft/match/v1/matches/' + match + '?api_key=' + api_key).json()\n",
    "\n",
    "  participants = match_data['metadata']['participants']\n",
    "  patch = match_data['info']['game_version'][-6:-1]\n",
    "  game_datetime = match_data['info']['game_datetime']\n",
    "\n",
    "  game_information = match_data['info']['participants']\n",
    "  for board in game_information:\n",
    "    augments = board['augments']\n",
    "    level = board['level']\n",
    "    placement = board['placement']\n",
    "    traits = board['traits']\n",
    "    units = board['units']\n",
    "    # figure out what comp they are playing\n",
    "\n",
    "    \n",
    "  # print(match_data)\n",
    "\n",
    "\n",
    "\n",
    "\n",
    "  break\n"
   ]
  }
 ],
 "metadata": {
  "kernelspec": {
   "display_name": "Python 3.11.7 64-bit",
   "language": "python",
   "name": "python3"
  },
  "language_info": {
   "codemirror_mode": {
    "name": "ipython",
    "version": 3
   },
   "file_extension": ".py",
   "mimetype": "text/x-python",
   "name": "python",
   "nbconvert_exporter": "python",
   "pygments_lexer": "ipython3",
   "version": "3.11.7"
  },
  "orig_nbformat": 4,
  "vscode": {
   "interpreter": {
    "hash": "b0fa6594d8f4cbf19f97940f81e996739fb7646882a419484c72d19e05852a7e"
   }
  }
 },
 "nbformat": 4,
 "nbformat_minor": 2
}
