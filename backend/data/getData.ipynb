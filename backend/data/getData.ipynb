{
 "cells": [
  {
   "cell_type": "code",
   "execution_count": 7,
   "metadata": {},
   "outputs": [],
   "source": [
    "api_key = 'RGAPI-314e77e7-1963-4196-96b5-cf8c8d0777b9'"
   ]
  },
  {
   "cell_type": "code",
   "execution_count": 15,
   "metadata": {},
   "outputs": [],
   "source": [
    "import requests\n",
    "import os\n",
    "from psycopg2 import pool\n",
    "from dotenv import load_dotenv\n",
    "from psycopg2.extras import Json, DictCursor\n",
    "import time"
   ]
  },
  {
   "cell_type": "code",
   "execution_count": 9,
   "metadata": {},
   "outputs": [
    {
     "name": "stdout",
     "output_type": "stream",
     "text": [
      "{'puuid': 'R8_dzuvxZm0VsqU-paXM3wijLavgPmiZDmKIHFm8HddnUGvsgHTlCQuWdlHNRJlBIaEFyZYD87Avug', 'gameName': 'clu', 'tagLine': 'clu1'}\n"
     ]
    }
   ],
   "source": [
    "r = requests.get(\"https://americas.api.riotgames.com/riot/account/v1/accounts/by-riot-id/clu/clu1?api_key=\" + api_key)\n",
    "print(r.json())"
   ]
  },
  {
   "cell_type": "code",
   "execution_count": 10,
   "metadata": {},
   "outputs": [],
   "source": [
    "# setsuko, soju, dishsoap\n",
    "streamers = ['e62ZthNQBc1bjVfXrjDvNIQV-0Bd7GUeaRv_fiZqx5nc5OXaY6OAmM4wav043AJgxKQShtA1s9IIOg', 'hVi-4fc19ymaRf4HvUmHNkZCoALJPUXgGKcKGgBlLZTqYZRVtQwglGQCIBj0jou0wA35CcH8sdeEgw', 'NUnja2Bl0CPRiimqr1PesnOnDsxXa6eAg5xRhNVBdxgAzBopnpcWNTZZ9r9YjNhEtf5tx2DkvXdJ9Q']"
   ]
  },
  {
   "cell_type": "code",
   "execution_count": 11,
   "metadata": {},
   "outputs": [],
   "source": [
    "# for streamer_puuid in streamers:\n",
    "#   matches = requests.get(\"https://americas.api.riotgames.com/tft/match/v1/matches/by-puuid/\" + streamer_puuid + \"&api_key=\" + api_key)\n"
   ]
  },
  {
   "cell_type": "code",
   "execution_count": 12,
   "metadata": {},
   "outputs": [
    {
     "name": "stdout",
     "output_type": "stream",
     "text": [
      "Connection pool created successfully\n",
      "Current time: 2024-11-12 00:23:18.013938+00:00\n",
      "PostgreSQL version: PostgreSQL 16.4 on x86_64-pc-linux-gnu, compiled by gcc (Debian 10.2.1-6) 10.2.1 20210110, 64-bit\n"
     ]
    }
   ],
   "source": [
    "\n",
    "\n",
    "# Load .env file\n",
    "load_dotenv()\n",
    "\n",
    "# Get the connection string from the environment variable\n",
    "connection_string = os.getenv('DATABASE_URL')\n",
    "\n",
    "# Create a connection pool\n",
    "connection_pool = pool.SimpleConnectionPool(\n",
    "    1,  # Minimum number of connections in the pool\n",
    "    10,  # Maximum number of connections in the pool\n",
    "    connection_string\n",
    ")\n",
    "\n",
    "# Check if the pool was created successfully\n",
    "if connection_pool:\n",
    "    print(\"Connection pool created successfully\")\n",
    "\n",
    "# Get a connection from the pool\n",
    "conn = connection_pool.getconn()\n",
    "\n",
    "# Create a cursor object\n",
    "cur = conn.cursor()\n",
    "\n",
    "# Execute SQL commands to retrieve the current time and version from PostgreSQL\n",
    "cur.execute('SELECT NOW();')\n",
    "time = cur.fetchone()[0]\n",
    "\n",
    "cur.execute('SELECT version();')\n",
    "version = cur.fetchone()[0]\n",
    "\n",
    "# Close the cursor and return the connection to the pool\n",
    "cur.close()\n",
    "connection_pool.putconn(conn)\n",
    "\n",
    "# Close all connections in the pool\n",
    "connection_pool.closeall()\n",
    "\n",
    "# Print the results\n",
    "print('Current time:', time)\n",
    "print('PostgreSQL version:', version)"
   ]
  },
  {
   "cell_type": "code",
   "execution_count": 16,
   "metadata": {},
   "outputs": [
    {
     "name": "stdout",
     "output_type": "stream",
     "text": [
      "Connection pool created successfully\n",
      "inserted NA1_5131711742\n",
      "inserted NA1_5131694229\n",
      "inserted NA1_5131672537\n",
      "inserted NA1_5131655036\n",
      "inserted NA1_5131632927\n",
      "inserted NA1_5131606528\n",
      "inserted NA1_5131581142\n",
      "inserted NA1_5131554751\n",
      "inserted NA1_5131519989\n",
      "Connection pool created successfully\n",
      "inserted NA1_5143191535\n",
      "sleeping 120s\n",
      "inserted NA1_5143175262\n",
      "inserted NA1_5143164964\n",
      "inserted NA1_5143152150\n",
      "inserted NA1_5143142131\n",
      "inserted NA1_5143127402\n",
      "inserted NA1_5143114553\n",
      "inserted NA1_5139246343\n",
      "inserted NA1_5135873144\n",
      "inserted NA1_5135546046\n",
      "inserted NA1_5135509155\n",
      "inserted NA1_5135470479\n",
      "inserted NA1_5134935794\n",
      "sleeping 120s\n"
     ]
    },
    {
     "ename": "KeyboardInterrupt",
     "evalue": "",
     "output_type": "error",
     "traceback": [
      "\u001b[0;31m---------------------------------------------------------------------------\u001b[0m",
      "\u001b[0;31mKeyboardInterrupt\u001b[0m                         Traceback (most recent call last)",
      "Cell \u001b[0;32mIn[16], line 48\u001b[0m\n\u001b[1;32m     46\u001b[0m \u001b[38;5;28;01melse\u001b[39;00m:\n\u001b[1;32m     47\u001b[0m   \u001b[38;5;28mprint\u001b[39m(\u001b[38;5;124m\"\u001b[39m\u001b[38;5;124msleeping 120s\u001b[39m\u001b[38;5;124m\"\u001b[39m)\n\u001b[0;32m---> 48\u001b[0m   time\u001b[38;5;241m.\u001b[39msleep(\u001b[38;5;241m120\u001b[39m)\n\u001b[1;32m     49\u001b[0m   match_data \u001b[38;5;241m=\u001b[39m requests\u001b[38;5;241m.\u001b[39mget(\u001b[38;5;124m'\u001b[39m\u001b[38;5;124mhttps://americas.api.riotgames.com/tft/match/v1/matches/\u001b[39m\u001b[38;5;124m'\u001b[39m \u001b[38;5;241m+\u001b[39m match \u001b[38;5;241m+\u001b[39m \u001b[38;5;124m'\u001b[39m\u001b[38;5;124m?api_key=\u001b[39m\u001b[38;5;124m'\u001b[39m \u001b[38;5;241m+\u001b[39m api_key)\u001b[38;5;241m.\u001b[39mjson()\n\u001b[1;32m     52\u001b[0m \u001b[38;5;66;03m#get metadata\u001b[39;00m\n",
      "\u001b[0;31mKeyboardInterrupt\u001b[0m: "
     ]
    }
   ],
   "source": [
    "for current_puuid in streamers:\n",
    "  # Connect to the DB\n",
    "  # Load .env file\n",
    "  load_dotenv()\n",
    "\n",
    "  # Get the connection string from the environment variable\n",
    "  connection_string = os.getenv('DATABASE_URL')\n",
    "\n",
    "  # Create a connection pool\n",
    "  connection_pool = pool.SimpleConnectionPool(\n",
    "      1,  # Minimum number of connections in the pool\n",
    "      10,  # Maximum number of connections in the pool\n",
    "      connection_string\n",
    "  )\n",
    "\n",
    "  # Check if the pool was created successfully\n",
    "  if connection_pool:\n",
    "      print(\"Connection pool created successfully\")\n",
    "\n",
    "  # Get a connection from the pool\n",
    "  conn = connection_pool.getconn()\n",
    "  conn.autocommit = True\n",
    "\n",
    "  # Create a cursor object\n",
    "  cur = conn.cursor(cursor_factory=DictCursor)\n",
    "\n",
    "\n",
    "  # get recent match data\n",
    "  matches = requests.get('https://americas.api.riotgames.com/tft/match/v1/matches/by-puuid/' + current_puuid + '/ids?start=0&count=20&api_key=' + api_key).json()\n",
    "\n",
    "  # add each match to the db\n",
    "  for match in matches:\n",
    "    # first check not in the db\n",
    "    \n",
    "    cur.execute('SELECT 1 FROM matches WHERE match_id=%s', (match, ))\n",
    "    if cur.fetchall():\n",
    "      continue\n",
    "    \n",
    "\n",
    "\n",
    "    match_dict = {}\n",
    "    match_data = requests.get('https://americas.api.riotgames.com/tft/match/v1/matches/' + match + '?api_key=' + api_key)\n",
    "\n",
    "    if match_data.ok:\n",
    "      match_data = match_data.json()\n",
    "    else:\n",
    "      print(\"sleeping 120s\")\n",
    "      time.sleep(120)\n",
    "      match_data = requests.get('https://americas.api.riotgames.com/tft/match/v1/matches/' + match + '?api_key=' + api_key).json()\n",
    "\n",
    "\n",
    "    #get metadata\n",
    "    patch = match_data['info']['game_version'][-6:-1]\n",
    "    game_datetime = match_data['info']['game_datetime']\n",
    "\n",
    "    game_information = match_data['info']['participants']\n",
    "    players = []\n",
    "    # print(game_information[0])\n",
    "    for board in game_information:\n",
    "      curr_dict = {}\n",
    "      curr_dict['augments'] = board['augments']\n",
    "      curr_dict['level'] = board['level']\n",
    "      curr_dict['placement'] = board['placement']\n",
    "      curr_dict['traits'] = board['traits']\n",
    "      curr_dict['units'] = board['units']\n",
    "      curr_dict['puuid'] = board['puuid']\n",
    "      curr_dict['gold_left'] = board['gold_left']\n",
    "\n",
    "      r = requests.get('https://americas.api.riotgames.com/riot/account/v1/accounts/by-puuid/' + curr_dict['puuid'] + '?api_key=' + api_key)\n",
    "      if r.ok:\n",
    "        r = r.json()\n",
    "      else:\n",
    "        print(\"sleeping 120s\")\n",
    "        time.sleep(120)\n",
    "        r = requests.get('https://americas.api.riotgames.com/riot/account/v1/accounts/by-puuid/' + curr_dict['puuid'] + '?api_key=' + api_key).json()\n",
    "      curr_dict['username_tagline']= r['gameName'] + ' #' + r[\"tagLine\"]\n",
    "\n",
    "      match_dict[r['gameName'] + ' #' + r[\"tagLine\"]] = curr_dict.copy()\n",
    "      players.append(r['gameName'] + ' #' + r[\"tagLine\"])\n",
    "\n",
    "    # add it into the db\n",
    "  \n",
    "    cur.execute('INSERT into matches (match_id, patch, game_datetime, match_data, players) values (%s, %s, %s, %s, %s)', (match, patch, game_datetime, Json(match_dict), players))\n",
    "    print('inserted', match)\n",
    "\n",
    "\n",
    "\n",
    "  # Commit changes to the db\n",
    "\n",
    "  cur.close()\n",
    "  connection_pool.putconn(conn)\n",
    "\n",
    "  # Close all connections in the pool\n",
    "  connection_pool.closeall()\n"
   ]
  },
  {
   "cell_type": "code",
   "execution_count": 21,
   "metadata": {},
   "outputs": [
    {
     "name": "stdout",
     "output_type": "stream",
     "text": [
      "Connection pool created successfully\n",
      "[['NA1_5149100514', '14.22', '1731018571470', {'Knav #NA1': {'level': 8, 'puuid': 'HPJhFXY_2UL7hDHNExlkBdLo-PvPbuQidP5_SIS3hr4WNQhBrp7JQTmtpmuGtDXYa1tXLx-0TGjiWQ', 'units': [{'name': '', 'tier': 3, 'rarity': 0, 'itemNames': ['TFT_Item_GiantsBelt'], 'character_id': 'TFT12_Elise'}, {'name': '', 'tier': 1, 'rarity': 0, 'itemNames': [], 'character_id': 'TFT12_Ziggs'}, {'name': '', 'tier': 3, 'rarity': 1, 'itemNames': ['TFT_Item_GuinsoosRageblade', 'TFT_Item_GuinsoosRageblade', 'TFT_Item_MadredsBloodrazor'], 'character_id': 'TFT12_Cassiopeia'}, {'name': '', 'tier': 3, 'rarity': 1, 'itemNames': ['TFT_Item_MadredsBloodrazor', 'TFT_Item_SpearOfShojin', 'TFT_Item_AdaptiveHelm'], 'character_id': 'TFT12_Syndra'}, {'name': '', 'tier': 3, 'rarity': 1, 'itemNames': [], 'character_id': 'TFT12_Shyvana'}, {'name': '', 'tier': 3, 'rarity': 2, 'itemNames': ['TFT_Item_DragonsClaw', 'TFT_Item_NightHarvester', 'TFT_Item_GargoyleStoneplate'], 'character_id': 'TFT12_Swain'}, {'name': '', 'tier': 2, 'rarity': 2, 'itemNames': [], 'character_id': 'TFT12_Neeko'}, {'name': '', 'tier': 1, 'rarity': 4, 'itemNames': ['TFT_Item_StatikkShiv'], 'character_id': 'TFT12_Nami'}], 'traits': [{'name': 'TFT12_Dragon', 'style': 0, 'num_units': 1, 'tier_total': 2, 'tier_current': 0}, {'name': 'TFT12_Eldritch', 'style': 1, 'num_units': 3, 'tier_total': 4, 'tier_current': 1}, {'name': 'TFT12_Frost', 'style': 0, 'num_units': 1, 'tier_total': 4, 'tier_current': 0}, {'name': 'TFT12_Honeymancy', 'style': 0, 'num_units': 1, 'tier_total': 3, 'tier_current': 0}, {'name': 'TFT12_Incantor', 'style': 1, 'num_units': 3, 'tier_total': 2, 'tier_current': 1}, {'name': 'TFT12_Mage', 'style': 0, 'num_units': 1, 'tier_total': 4, 'tier_current': 0}, {'name': 'TFT12_Shapeshifter', 'style': 2, 'num_units': 4, 'tier_total': 5, 'tier_current': 2}, {'name': 'TFT12_Witchcraft', 'style': 1, 'num_units': 2, 'tier_total': 4, 'tier_current': 1}], 'augments': ['TFT6_Augment_GachaAddict', 'TFT9_Augment_BuildingACollectionPlusPlus', 'TFT_Augment_BlossomingLotus1'], 'gold_left': 1, 'placement': 6, 'username_tagline': 'Knav #NA1'}, 'LemonVip #NA1': {'level': 8, 'puuid': 'cPsZnKQbsDoVBMceGQQuFGAYhaqWaMn5Z5qynSo2OkBt8WG0n9Y-l9pC6IgKq_9uxT_PYVYgRD87gQ', 'units': [{'name': '', 'tier': 2, 'rarity': 0, 'itemNames': [], 'character_id': 'TFT12_Jax'}, {'name': '', 'tier': 3, 'rarity': 1, 'itemNames': ['TFT_Item_Quicksilver', 'TFT_Item_TitansResolve', 'TFT_Item_Artifact_WitsEnd'], 'character_id': 'TFT12_Kassadin'}, {'name': '', 'tier': 3, 'rarity': 1, 'itemNames': ['TFT_Item_HextechGunblade', 'TFT_Item_InfinityEdge', 'TFT_Item_Artifact_Mittens'], 'character_id': 'TFT12_Akali'}, {'name': '', 'tier': 2, 'rarity': 2, 'itemNames': ['TFT_Item_ThiefsGloves', 'TFT_Item_Leviathan', 'TFT_Item_Deathblade'], 'character_id': 'TFT12_Hecarim'}, {'name': '', 'tier': 2, 'rarity': 2, 'itemNames': ['TFT4_Item_OrnnRanduinsSanctum', 'TFT_Item_FrozenHeart', 'TFT_Item_SpectralGauntlet'], 'character_id': 'TFT12_Shen'}, {'name': '', 'tier': 1, 'rarity': 4, 'itemNames': [], 'character_id': 'TFT12_Karma'}, {'name': '', 'tier': 1, 'rarity': 4, 'itemNames': ['TFT_Item_StatikkShiv', 'TFT_Item_Artifact_TalismanOfAscension', 'TFT_Item_RecurveBow'], 'character_id': 'TFT12_Kalista'}, {'name': '', 'tier': 1, 'rarity': 6, 'itemNames': [], 'character_id': 'TFT12_Xerath'}], 'traits': [{'name': 'TFT12_Arcana', 'style': 1, 'num_units': 2, 'tier_total': 4, 'tier_current': 1}, {'name': 'TFT12_Ascendant', 'style': 3, 'num_units': 1, 'tier_total': 1, 'tier_current': 1}, {'name': 'TFT12_Bastion', 'style': 1, 'num_units': 2, 'tier_total': 4, 'tier_current': 1}, {'name': 'TFT12_Chrono', 'style': 1, 'num_units': 2, 'tier_total': 3, 'tier_current': 1}, {'name': 'TFT12_Faerie', 'style': 0, 'num_units': 1, 'tier_total': 4, 'tier_current': 0}, {'name': 'TFT12_Incantor', 'style': 0, 'num_units': 1, 'tier_total': 2, 'tier_current': 0}, {'name': 'TFT12_Multistriker', 'style': 2, 'num_units': 5, 'tier_total': 4, 'tier_current': 2}, {'name': 'TFT12_Portal', 'style': 0, 'num_units': 1, 'tier_total': 4, 'tier_current': 0}, {'name': 'TFT12_Pyro', 'style': 1, 'num_units': 2, 'tier_total': 4, 'tier_current': 1}, {'name': 'TFT12_Warrior', 'style': 0, 'num_units': 1, 'tier_total': 3, 'tier_current': 0}], 'augments': ['TFT7_Augment_LivingForge', 'TFT_Augment_GiantAndMighty', 'TFT9_Augment_SupportCache'], 'gold_left': 0, 'placement': 4, 'username_tagline': 'LemonVip #NA1'}, 'oNoXXoNo #NA1': {'level': 9, 'puuid': '_edmgVpSvQYkBhh6LDvlQcOQoVUwys-0J_gGsNl3hpRkE1r9GP09lF0iVSXO9Qoo_dZ8ksuGMKucqg', 'units': [{'name': '', 'tier': 2, 'rarity': 1, 'itemNames': [], 'character_id': 'TFT12_Ahri'}, {'name': '', 'tier': 3, 'rarity': 1, 'itemNames': [], 'character_id': 'TFT12_Galio'}, {'name': '', 'tier': 3, 'rarity': 2, 'itemNames': ['TFT_Item_IonicSpark', 'TFT_Item_IonicSpark', 'TFT_Item_GargoyleStoneplate'], 'character_id': 'TFT12_Vex'}, {'name': '', 'tier': 2, 'rarity': 2, 'itemNames': ['TFT_Item_MadredsBloodrazor'], 'character_id': 'TFT12_Veigar'}, {'name': '', 'tier': 2, 'rarity': 4, 'itemNames': ['TFT12_Item_MageEmblemItem'], 'character_id': 'TFT12_TahmKench'}, {'name': '', 'tier': 2, 'rarity': 4, 'itemNames': ['TFT_Item_MadredsBloodrazor'], 'character_id': 'TFT12_Nami'}, {'name': '', 'tier': 1, 'rarity': 4, 'itemNames': [], 'character_id': 'TFT12_Taric'}, {'name': '', 'tier': 1, 'rarity': 6, 'itemNames': ['TFT12_Item_MageEmblemItem', 'TFT_Item_SpearOfShojin', 'TFT_Item_MadredsBloodrazor'], 'character_id': 'TFT12_Xerath'}, {'name': '', 'tier': 1, 'rarity': 6, 'itemNames': ['TFT_Item_ThiefsGloves', 'TFT_Item_SteraksGage', 'TFT_Item_RabadonsDeathcap'], 'character_id': 'TFT12_Norra'}, {'name': '', 'tier': 1, 'rarity': 9, 'itemNames': [], 'character_id': 'TFT12_Yuumi'}], 'traits': [{'name': 'TFT12_Arcana', 'style': 2, 'num_units': 3, 'tier_total': 4, 'tier_current': 2}, {'name': 'TFT12_Ascendant', 'style': 3, 'num_units': 1, 'tier_total': 1, 'tier_current': 1}, {'name': 'TFT12_Bastion', 'style': 0, 'num_units': 1, 'tier_total': 4, 'tier_current': 0}, {'name': 'TFT12_Chrono', 'style': 0, 'num_units': 1, 'tier_total': 3, 'tier_current': 0}, {'name': 'TFT12_Eldritch', 'style': 0, 'num_units': 1, 'tier_total': 4, 'tier_current': 0}, {'name': 'TFT12_Explorer', 'style': 3, 'num_units': 1, 'tier_total': 1, 'tier_current': 1}, {'name': 'TFT12_Honeymancy', 'style': 0, 'num_units': 1, 'tier_total': 3, 'tier_current': 0}, {'name': 'TFT12_Mage', 'style': 4, 'num_units': 7, 'tier_total': 4, 'tier_current': 3}, {'name': 'TFT12_Portal', 'style': 1, 'num_units': 3, 'tier_total': 4, 'tier_current': 1}, {'name': 'TFT12_Scholar', 'style': 0, 'num_units': 1, 'tier_total': 3, 'tier_current': 0}, {'name': 'TFT12_Vanguard', 'style': 1, 'num_units': 2, 'tier_total': 3, 'tier_current': 1}], 'augments': ['TFT_Augment_WorthTheWaitPrismatic', 'TFT12_Augment_MageCrown', 'TFT_Augment_DuoQueue'], 'gold_left': 0, 'placement': 5, 'username_tagline': 'oNoXXoNo #NA1'}, 'BidetBoy #Bidet': {'level': 8, 'puuid': 'bzgnLd582xTyC9YIeUYtAw426xsyvyLXZc3VBVyJrlY60gE611ZvmJuBprBUBOoyeNjO5bpxn3xOFA', 'units': [{'name': '', 'tier': 2, 'rarity': 1, 'itemNames': [], 'character_id': 'TFT12_Zilean'}, {'name': '', 'tier': 1, 'rarity': 1, 'itemNames': [], 'character_id': 'TFT12_Cassiopeia'}, {'name': '', 'tier': 1, 'rarity': 2, 'itemNames': [], 'character_id': 'TFT12_Katarina'}, {'name': '', 'tier': 2, 'rarity': 2, 'itemNames': [], 'character_id': 'TFT12_Bard'}, {'name': '', 'tier': 2, 'rarity': 4, 'itemNames': ['TFT_Item_StatikkShiv', 'TFT_Item_Morellonomicon'], 'character_id': 'TFT12_Karma'}, {'name': '', 'tier': 2, 'rarity': 4, 'itemNames': ['TFT_Item_InfinityEdge', 'TFT_Item_Bloodthirster', 'TFT_Item_Artifact_ProwlersClaw'], 'character_id': 'TFT12_Fiora'}, {'name': '', 'tier': 2, 'rarity': 4, 'itemNames': ['TFT4_Item_OrnnRanduinsSanctum', 'TFT_Item_SpectralGauntlet'], 'character_id': 'TFT12_Rakan'}, {'name': '', 'tier': 2, 'rarity': 6, 'itemNames': ['TFT4_Item_OrnnZhonyasParadox', 'TFT_Item_UnstableConcoction'], 'character_id': 'TFT12_Morgana'}], 'traits': [{'name': 'TFT12_BatQueen', 'style': 3, 'num_units': 1, 'tier_total': 1, 'tier_current': 1}, {'name': 'TFT12_Chrono', 'style': 1, 'num_units': 2, 'tier_total': 3, 'tier_current': 1}, {'name': 'TFT12_Faerie', 'style': 0, 'num_units': 2, 'tier_total': 4, 'tier_current': 0}, {'name': 'TFT12_Frost', 'style': 0, 'num_units': 1, 'tier_total': 4, 'tier_current': 0}, {'name': 'TFT12_Incantor', 'style': 1, 'num_units': 2, 'tier_total': 2, 'tier_current': 1}, {'name': 'TFT12_Preserver', 'style': 2, 'num_units': 4, 'tier_total': 4, 'tier_current': 3}, {'name': 'TFT12_Scholar', 'style': 0, 'num_units': 1, 'tier_total': 3, 'tier_current': 0}, {'name': 'TFT12_Sugarcraft', 'style': 0, 'num_units': 1, 'tier_total': 4, 'tier_current': 0}, {'name': 'TFT12_Warrior', 'style': 1, 'num_units': 2, 'tier_total': 3, 'tier_current': 1}, {'name': 'TFT12_Witchcraft', 'style': 1, 'num_units': 3, 'tier_total': 4, 'tier_current': 1}], 'augments': ['TFT7_Augment_LivingForge', 'TFT_Augment_RanduinsImmovableObject', 'TFT10_Augment_InspiringEpitaph'], 'gold_left': 0, 'placement': 7, 'username_tagline': 'BidetBoy #Bidet'}, 'Glarumont #18VN': {'level': 9, 'puuid': 'NceDA1B8EvXB3zq-I4IY8gOsfyWhO4_TYgnxRusyBJrBWtty0kzSx4GaSenM5N5ZBhc9cAkgbBRkpA', 'units': [{'name': '', 'tier': 2, 'rarity': 0, 'itemNames': ['TFT12_Item_ChronoEmblemItem', 'TFT12_Item_WarriorEmblemItem'], 'character_id': 'TFT12_Twitch'}, {'name': '', 'tier': 1, 'rarity': 1, 'itemNames': [], 'character_id': 'TFT12_Zilean'}, {'name': '', 'tier': 2, 'rarity': 2, 'itemNames': ['TFT12_Item_IncantorEmblemItem', 'TFT12_Item_FaerieEmblemItem', 'TFT_Item_TearOfTheGoddess'], 'character_id': 'TFT12_Hwei'}, {'name': '', 'tier': 2, 'rarity': 2, 'itemNames': ['TFT_Item_FrozenHeart'], 'character_id': 'TFT12_Swain'}, {'name': '', 'tier': 2, 'rarity': 4, 'itemNames': ['TFT12_Item_FrostEmblemItem', 'TFT_Item_GargoyleStoneplate', 'TFT_Item_RedBuff'], 'character_id': 'TFT12_Nasus'}, {'name': '', 'tier': 2, 'rarity': 4, 'itemNames': ['TFT12_Item_FrostEmblemItem', 'TFT_Item_InfinityEdge', 'TFT_Item_InfinityEdge'], 'character_id': 'TFT12_Varus'}, {'name': '', 'tier': 2, 'rarity': 4, 'itemNames': [], 'character_id': 'TFT12_Olaf'}, {'name': '', 'tier': 1, 'rarity': 6, 'itemNames': ['TFT_Item_PowerGauntlet'], 'character_id': 'TFT12_Diana'}, {'name': '', 'tier': 2, 'rarity': 6, 'itemNames': ['TFT12_Item_FrostEmblemItem', 'TFT_Item_Bloodthirster', 'TFT_Item_Quicksilver'], 'character_id': 'TFT12_Briar'}], 'traits': [{'name': 'TFT12_Bastion', 'style': 0, 'num_units': 1, 'tier_total': 4, 'tier_current': 0}, {'name': 'TFT12_Blaster', 'style': 1, 'num_units': 2, 'tier_total': 3, 'tier_current': 1}, {'name': 'TFT12_Chrono', 'style': 1, 'num_units': 2, 'tier_total': 3, 'tier_current': 1}, {'name': 'TFT12_Eldritch', 'style': 0, 'num_units': 1, 'tier_total': 4, 'tier_current': 0}, {'name': 'TFT12_Faerie', 'style': 0, 'num_units': 1, 'tier_total': 4, 'tier_current': 0}, {'name': 'TFT12_Frost', 'style': 4, 'num_units': 9, 'tier_total': 4, 'tier_current': 4}, {'name': 'TFT12_Hunter', 'style': 1, 'num_units': 2, 'tier_total': 3, 'tier_current': 1}, {'name': 'TFT12_Incantor', 'style': 0, 'num_units': 1, 'tier_total': 2, 'tier_current': 0}, {'name': 'TFT12_Preserver', 'style': 0, 'num_units': 1, 'tier_total': 4, 'tier_current': 0}, {'name': 'TFT12_Pyro', 'style': 1, 'num_units': 2, 'tier_total': 4, 'tier_current': 1}, {'name': 'TFT12_Ravenous', 'style': 3, 'num_units': 1, 'tier_total': 1, 'tier_current': 1}, {'name': 'TFT12_Shapeshifter', 'style': 1, 'num_units': 3, 'tier_total': 5, 'tier_current': 1}, {'name': 'TFT12_Warrior', 'style': 0, 'num_units': 1, 'tier_total': 3, 'tier_current': 0}], 'augments': ['TFT_Augment_Flexible', 'TFT12_Augment_FrostCrown', 'TFT9_Augment_BalancedBudgetPlus'], 'gold_left': 4, 'placement': 3, 'username_tagline': 'Glarumont #18VN'}, 'Chocomint #12346': {'level': 7, 'puuid': 'P3_jsZMSLytEbmvREBCnsjGv0ugpFCv0NZhdkoW5qB2Ukc_Rt-NGw3UBcClLtpS54Edw_BDMHOzeMw', 'units': [{'name': '', 'tier': 2, 'rarity': 0, 'itemNames': [], 'character_id': 'TFT12_Twitch'}, {'name': '', 'tier': 2, 'rarity': 1, 'itemNames': [], 'character_id': 'TFT12_Zilean'}, {'name': '', 'tier': 2, 'rarity': 1, 'itemNames': [], 'character_id': 'TFT12_KogMaw'}, {'name': '', 'tier': 2, 'rarity': 2, 'itemNames': ['TFT_Item_Quicksilver', 'TFT_Item_RunaansHurricane', 'TFT_Item_HextechGunblade'], 'character_id': 'TFT12_Jinx'}, {'name': '', 'tier': 2, 'rarity': 2, 'itemNames': [], 'character_id': 'TFT12_Bard'}, {'name': '', 'tier': 2, 'rarity': 2, 'itemNames': ['TFT_Item_WarmogsArmor', 'TFT_Item_Crownguard', 'TFT_Item_AdaptiveHelm'], 'character_id': 'TFT12_Wukong'}, {'name': '', 'tier': 1, 'rarity': 4, 'itemNames': [], 'character_id': 'TFT12_Olaf'}], 'traits': [{'name': 'TFT12_Chrono', 'style': 0, 'num_units': 1, 'tier_total': 3, 'tier_current': 0}, {'name': 'TFT12_Druid', 'style': 4, 'num_units': 1, 'tier_total': 1, 'tier_current': 1}, {'name': 'TFT12_Frost', 'style': 1, 'num_units': 3, 'tier_total': 4, 'tier_current': 1}, {'name': 'TFT12_Honeymancy', 'style': 0, 'num_units': 1, 'tier_total': 3, 'tier_current': 0}, {'name': 'TFT12_Hunter', 'style': 2, 'num_units': 4, 'tier_total': 3, 'tier_current': 2}, {'name': 'TFT12_Preserver', 'style': 1, 'num_units': 2, 'tier_total': 4, 'tier_current': 1}, {'name': 'TFT12_Scholar', 'style': 0, 'num_units': 1, 'tier_total': 3, 'tier_current': 0}, {'name': 'TFT12_Sugarcraft', 'style': 1, 'num_units': 2, 'tier_total': 4, 'tier_current': 1}], 'augments': ['TFT9_Augment_PumpingUp3', 'TFT9_Augment_Commander_FinalAscension', 'TFT9_Augment_LongDistanceRelationship2'], 'gold_left': 0, 'placement': 8, 'username_tagline': 'Chocomint #12346'}, 'VIT setsuko #NA2': {'level': 10, 'puuid': 'e62ZthNQBc1bjVfXrjDvNIQV-0Bd7GUeaRv_fiZqx5nc5OXaY6OAmM4wav043AJgxKQShtA1s9IIOg', 'units': [{'name': '', 'tier': 2, 'rarity': 0, 'itemNames': [], 'character_id': 'TFT12_Soraka'}, {'name': '', 'tier': 2, 'rarity': 1, 'itemNames': ['TFT7_Item_ShimmerscaleMogulsMail'], 'character_id': 'TFT12_Rumble'}, {'name': '', 'tier': 2, 'rarity': 2, 'itemNames': [], 'character_id': 'TFT12_Jinx'}, {'name': '', 'tier': 2, 'rarity': 2, 'itemNames': ['TFT_Item_RecurveBow', 'TFT_Item_JeweledGauntlet'], 'character_id': 'TFT12_Bard'}, {'name': '', 'tier': 2, 'rarity': 4, 'itemNames': ['TFT_Item_Artifact_SuspiciousTrenchCoat', 'TFT_Item_Artifact_SilvermereDawn', 'TFT_Item_Artifact_ProwlersClaw'], 'character_id': 'TFT12_Fiora'}, {'name': '', 'tier': 2, 'rarity': 4, 'itemNames': ['TFT_Item_Artifact_SeekersArmguard', 'TFT4_Item_OrnnInfinityForce', 'TFT_Item_Artifact_WitsEnd'], 'character_id': 'TFT12_Gwen'}, {'name': '', 'tier': 2, 'rarity': 4, 'itemNames': ['TFT_Item_Artifact_HorizonFocus', 'TFT_Item_Artifact_LightshieldCrest', 'TFT_Item_NightHarvester'], 'character_id': 'TFT12_TahmKench'}, {'name': '', 'tier': 1, 'rarity': 6, 'itemNames': ['TFT_Item_Artifact_Mittens', 'TFT_Item_Crownguard', 'TFT_Item_MadredsBloodrazor'], 'character_id': 'TFT12_Morgana'}, {'name': '', 'tier': 2, 'rarity': 6, 'itemNames': ['TFT4_Item_OrnnInfinityForce', 'TFT12_Item_MageEmblemItem', 'TFT_Item_Artifact_Fishbones'], 'character_id': 'TFT12_Milio'}, {'name': '', 'tier': 2, 'rarity': 6, 'itemNames': ['TFT4_Item_OrnnInfinityForce', 'TFT_Item_Artifact_WitsEnd', 'TFT12_Item_SugarcraftEmblemItem'], 'character_id': 'TFT12_Norra'}, {'name': '', 'tier': 2, 'rarity': 9, 'itemNames': [], 'character_id': 'TFT12_Yuumi'}, {'name': '', 'tier': 1, 'rarity': 0, 'itemNames': [], 'character_id': 'TFT_ElderDragon'}], 'traits': [{'name': 'TFT12_Arcana', 'style': 0, 'num_units': 1, 'tier_total': 4, 'tier_current': 0}, {'name': 'TFT12_BatQueen', 'style': 3, 'num_units': 1, 'tier_total': 1, 'tier_current': 1}, {'name': 'TFT12_Blaster', 'style': 0, 'num_units': 1, 'tier_total': 3, 'tier_current': 0}, {'name': 'TFT12_Explorer', 'style': 3, 'num_units': 1, 'tier_total': 1, 'tier_current': 1}, {'name': 'TFT12_Faerie', 'style': 0, 'num_units': 1, 'tier_total': 4, 'tier_current': 0}, {'name': 'TFT12_Hunter', 'style': 0, 'num_units': 1, 'tier_total': 3, 'tier_current': 0}, {'name': 'TFT12_Mage', 'style': 1, 'num_units': 3, 'tier_total': 4, 'tier_current': 1}, {'name': 'TFT12_Portal', 'style': 0, 'num_units': 1, 'tier_total': 4, 'tier_current': 0}, {'name': 'TFT12_Preserver', 'style': 1, 'num_units': 2, 'tier_total': 4, 'tier_current': 1}, {'name': 'TFT12_Scholar', 'style': 1, 'num_units': 2, 'tier_total': 3, 'tier_current': 1}, {'name': 'TFT12_Sugarcraft', 'style': 4, 'num_units': 6, 'tier_total': 4, 'tier_current': 3}, {'name': 'TFT12_Vanguard', 'style': 1, 'num_units': 2, 'tier_total': 3, 'tier_current': 1}, {'name': 'TFT12_Warrior', 'style': 1, 'num_units': 2, 'tier_total': 3, 'tier_current': 1}, {'name': 'TFT12_Witchcraft', 'style': 1, 'num_units': 2, 'tier_total': 4, 'tier_current': 1}], 'augments': ['TFT12_Augment_SugarcraftCrown', 'TFT9_Augment_WhatTheForge', 'TFT9_Augment_YouHaveMySword'], 'gold_left': 1, 'placement': 1, 'username_tagline': 'VIT setsuko #NA2'}, 'tftmobile2837464 #weird': {'level': 9, 'puuid': 'qtw1w8uu6k_ar9KfC8GrQOkpORZeCQPiP8_KVJkbWacEMAlDbS0vD74DQVv--Nyzpi0bFHaoAsK48g', 'units': [{'name': '', 'tier': 3, 'rarity': 0, 'itemNames': ['TFT_Item_Artifact_UnendingDespair', 'TFT_Item_Artifact_SuspiciousTrenchCoat', 'TFT_Item_FrozenHeart'], 'character_id': 'TFT12_Blitzcrank'}, {'name': '', 'tier': 3, 'rarity': 0, 'itemNames': ['TFT_Item_Leviathan', 'TFT9_Item_OrnnDeathfireGrasp', 'TFT4_Item_OrnnMuramana'], 'character_id': 'TFT12_Ziggs'}, {'name': '', 'tier': 3, 'rarity': 1, 'itemNames': ['TFT_Item_Morellonomicon', 'TFT_Item_SpearOfShojin', 'TFT_Item_StatikkShiv'], 'character_id': 'TFT12_KogMaw'}, {'name': '', 'tier': 1, 'rarity': 1, 'itemNames': [], 'character_id': 'TFT12_Cassiopeia'}, {'name': '', 'tier': 3, 'rarity': 1, 'itemNames': ['TFT9_Item_OrnnTrickstersGlass', 'TFT_Item_NightHarvester', 'TFT_Item_DragonsClaw'], 'character_id': 'TFT12_Nunu'}, {'name': '', 'tier': 1, 'rarity': 1, 'itemNames': [], 'character_id': 'TFT12_Ahri'}, {'name': '', 'tier': 1, 'rarity': 2, 'itemNames': [], 'character_id': 'TFT12_Hecarim'}, {'name': '', 'tier': 2, 'rarity': 2, 'itemNames': ['TFT12_Item_HunterEmblemItem'], 'character_id': 'TFT12_Veigar'}, {'name': '', 'tier': 1, 'rarity': 4, 'itemNames': ['TFT_Item_WarmogsArmor'], 'character_id': 'TFT12_TahmKench'}, {'name': '', 'tier': 3, 'rarity': 1, 'itemNames': [], 'character_id': 'TFT12_Nunu'}], 'traits': [{'name': 'TFT12_Arcana', 'style': 2, 'num_units': 3, 'tier_total': 4, 'tier_current': 2}, {'name': 'TFT12_Bastion', 'style': 1, 'num_units': 2, 'tier_total': 4, 'tier_current': 1}, {'name': 'TFT12_Honeymancy', 'style': 4, 'num_units': 5, 'tier_total': 3, 'tier_current': 2}, {'name': 'TFT12_Hunter', 'style': 1, 'num_units': 2, 'tier_total': 3, 'tier_current': 1}, {'name': 'TFT12_Incantor', 'style': 1, 'num_units': 2, 'tier_total': 2, 'tier_current': 1}, {'name': 'TFT12_Mage', 'style': 0, 'num_units': 1, 'tier_total': 4, 'tier_current': 0}, {'name': 'TFT12_Multistriker', 'style': 0, 'num_units': 1, 'tier_total': 4, 'tier_current': 0}, {'name': 'TFT12_Scholar', 'style': 0, 'num_units': 1, 'tier_total': 3, 'tier_current': 0}, {'name': 'TFT12_Vanguard', 'style': 1, 'num_units': 2, 'tier_total': 3, 'tier_current': 1}, {'name': 'TFT12_Witchcraft', 'style': 0, 'num_units': 1, 'tier_total': 4, 'tier_current': 0}], 'augments': ['TFT7_Augment_LivingForge', 'TFT_Augment_DarkAlleyDealings', 'TFT9_Augment_CombatCaster'], 'gold_left': 2, 'placement': 2, 'username_tagline': 'tftmobile2837464 #weird'}}, ['Glarumont #18VN', 'LemonVip #NA1', 'tftmobile2837464 #weird', 'Knav #NA1', 'Chocomint #12346', 'BidetBoy #Bidet', 'oNoXXoNo #NA1', 'VIT setsuko #NA2']], ['NA1_5149087201', '14.22', '1731016999117', {'dpei #NA1': {'level': 9, 'puuid': 'Ctdg9v14pJY9rfdm5NgsLLi8y6D6676p4_wVY6mK127H3IaYD479zKbLg-MdcvXQ5C5oZ0lzyceDdg', 'units': [{'name': '', 'tier': 1, 'rarity': 0, 'itemNames': [], 'character_id': 'TFT12_Lillia'}, {'name': '', 'tier': 2, 'rarity': 0, 'itemNames': [], 'character_id': 'TFT12_Poppy'}, {'name': '', 'tier': 2, 'rarity': 1, 'itemNames': ['TFT12_Item_ScholarEmblemItem'], 'character_id': 'TFT12_Nunu'}, {'name': '', 'tier': 2, 'rarity': 1, 'itemNames': ['TFT12_Item_BastionEmblemItem'], 'character_id': 'TFT12_Ahri'}, {'name': '', 'tier': 1, 'rarity': 2, 'itemNames': [], 'character_id': 'TFT12_Hecarim'}, {'name': '', 'tier': 2, 'rarity': 2, 'itemNames': [], 'character_id': 'TFT12_Shen'}, {'name': '', 'tier': 2, 'rarity': 4, 'itemNames': ['TFT_Item_PowerGauntlet', 'TFT_Item_RapidFireCannon', 'TFT_Item_PowerGauntlet'], 'character_id': 'TFT12_Ryze'}, {'name': '', 'tier': 2, 'rarity': 4, 'itemNames': ['TFT_Item_NightHarvester', 'TFT_Item_AdaptiveHelm', 'TFT_Item_IonicSpark'], 'character_id': 'TFT12_Taric'}, {'name': '', 'tier': 1, 'rarity': 6, 'itemNames': ['TFT_Item_Bloodthirster'], 'character_id': 'TFT12_Diana'}], 'traits': [{'name': 'TFT12_Arcana', 'style': 1, 'num_units': 2, 'tier_total': 4, 'tier_current': 1}, {'name': 'TFT12_Bastion', 'style': 4, 'num_units': 8, 'tier_total': 4, 'tier_current': 4}, {'name': 'TFT12_Faerie', 'style': 0, 'num_units': 1, 'tier_total': 4, 'tier_current': 0}, {'name': 'TFT12_Frost', 'style': 0, 'num_units': 1, 'tier_total': 4, 'tier_current': 0}, {'name': 'TFT12_Honeymancy', 'style': 0, 'num_units': 1, 'tier_total': 3, 'tier_current': 0}, {'name': 'TFT12_Multistriker', 'style': 0, 'num_units': 1, 'tier_total': 4, 'tier_current': 0}, {'name': 'TFT12_Portal', 'style': 0, 'num_units': 2, 'tier_total': 4, 'tier_current': 0}, {'name': 'TFT12_Pyro', 'style': 0, 'num_units': 1, 'tier_total': 4, 'tier_current': 0}, {'name': 'TFT12_Scholar', 'style': 1, 'num_units': 3, 'tier_total': 3, 'tier_current': 1}, {'name': 'TFT12_Witchcraft', 'style': 0, 'num_units': 1, 'tier_total': 4, 'tier_current': 0}], 'augments': ['TFT12_Augment_ScholarCrest', 'TFT_Augment_InvestedPlus', 'TFT12_Augment_BastionCrest'], 'gold_left': 1, 'placement': 5, 'username_tagline': 'dpei #NA1'}, 'GÖDLY #NA1': {'level': 7, 'puuid': 'gjVy1wHOxECJFlmQQGzaGZB-Nr9OlJfpnqax839lfkRRQJ9Dwb62VHXQLa1Crg4t-QepL8KGv1nHag', 'units': [{'name': '', 'tier': 2, 'rarity': 0, 'itemNames': ['TFT_Item_RedBuff'], 'character_id': 'TFT12_Jax'}, {'name': '', 'tier': 2, 'rarity': 0, 'itemNames': [], 'character_id': 'TFT12_Ashe'}, {'name': '', 'tier': 2, 'rarity': 1, 'itemNames': ['TFT_Item_TitansResolve', 'TFT_Item_Leviathan', 'TFT_Item_Bloodthirster'], 'character_id': 'TFT12_Kassadin'}, {'name': '', 'tier': 2, 'rarity': 1, 'itemNames': [], 'character_id': 'TFT12_Akali'}, {'name': '', 'tier': 2, 'rarity': 2, 'itemNames': ['TFT_Item_NegatronCloak'], 'character_id': 'TFT12_Hecarim'}, {'name': '', 'tier': 1, 'rarity': 4, 'itemNames': ['TFT12_Item_MultistrikerEmblemItem'], 'character_id': 'TFT12_TahmKench'}, {'name': '', 'tier': 1, 'rarity': 4, 'itemNames': ['TFT_Item_LastWhisper', 'TFT_Item_PowerGauntlet'], 'character_id': 'TFT12_Kalista'}], 'traits': [{'name': 'TFT12_Arcana', 'style': 1, 'num_units': 2, 'tier_total': 4, 'tier_current': 1}, {'name': 'TFT12_Bastion', 'style': 0, 'num_units': 1, 'tier_total': 4, 'tier_current': 0}, {'name': 'TFT12_Chrono', 'style': 0, 'num_units': 1, 'tier_total': 3, 'tier_current': 0}, {'name': 'TFT12_Eldritch', 'style': 0, 'num_units': 1, 'tier_total': 4, 'tier_current': 0}, {'name': 'TFT12_Faerie', 'style': 0, 'num_units': 1, 'tier_total': 4, 'tier_current': 0}, {'name': 'TFT12_Multistriker', 'style': 4, 'num_units': 7, 'tier_total': 4, 'tier_current': 3}, {'name': 'TFT12_Portal', 'style': 0, 'num_units': 1, 'tier_total': 4, 'tier_current': 0}, {'name': 'TFT12_Pyro', 'style': 0, 'num_units': 1, 'tier_total': 4, 'tier_current': 0}, {'name': 'TFT12_Vanguard', 'style': 0, 'num_units': 1, 'tier_total': 3, 'tier_current': 0}, {'name': 'TFT12_Warrior', 'style': 0, 'num_units': 1, 'tier_total': 3, 'tier_current': 0}], 'augments': ['TFT6_Augment_Keepers2', 'TFT12_Augment_MultistrikerCrown', 'TFT9_Augment_YouHaveMyBow'], 'gold_left': 0, 'placement': 8, 'username_tagline': 'GÖDLY #NA1'}, 'Dokkri #o7o7': {'level': 9, 'puuid': 'cgAU4Fcp6werR9TqFY63_qNcOpoFCzdFjtl3IwASWqzDVn1wbbUgMk2iiBiZzib2C04Vl1VzUewi2g', 'units': [{'name': '', 'tier': 2, 'rarity': 0, 'itemNames': [], 'character_id': 'TFT12_Elise'}, {'name': '', 'tier': 3, 'rarity': 0, 'itemNames': [], 'character_id': 'TFT12_Jayce'}, {'name': '', 'tier': 3, 'rarity': 1, 'itemNames': ['TFT_Item_GuinsoosRageblade', 'TFT_Item_StatikkShiv', 'TFT7_Item_ShimmerscaleGamblersBlade'], 'character_id': 'TFT12_Cassiopeia'}, {'name': '', 'tier': 3, 'rarity': 1, 'itemNames': ['TFT_Item_SpearOfShojin', 'TFT_Item_Leviathan', 'TFT_Item_Morellonomicon'], 'character_id': 'TFT12_Syndra'}, {'name': '', 'tier': 3, 'rarity': 2, 'itemNames': ['TFT_Item_Artifact_InnervatingLocket', 'TFT_Item_ArchangelsStaff', 'TFT_Item_Bloodthirster'], 'character_id': 'TFT12_Swain'}, {'name': '', 'tier': 3, 'rarity': 2, 'itemNames': ['TFT_Item_DragonsClaw', 'TFT_Item_FrozenHeart'], 'character_id': 'TFT12_Neeko'}, {'name': '', 'tier': 2, 'rarity': 4, 'itemNames': [], 'character_id': 'TFT12_Nasus'}, {'name': '', 'tier': 1, 'rarity': 6, 'itemNames': ['TFT_Item_TitansResolve', 'TFT_Item_GuardianAngel'], 'character_id': 'TFT12_Briar'}, {'name': '', 'tier': 1, 'rarity': 6, 'itemNames': ['TFT12_Item_ShapeshifterEmblemItem'], 'character_id': 'TFT12_Norra'}, {'name': '', 'tier': 1, 'rarity': 9, 'itemNames': [], 'character_id': 'TFT12_Yuumi'}], 'traits': [{'name': 'TFT12_Eldritch', 'style': 1, 'num_units': 3, 'tier_total': 4, 'tier_current': 1}, {'name': 'TFT12_Explorer', 'style': 3, 'num_units': 1, 'tier_total': 1, 'tier_current': 1}, {'name': 'TFT12_Frost', 'style': 0, 'num_units': 1, 'tier_total': 4, 'tier_current': 0}, {'name': 'TFT12_Incantor', 'style': 1, 'num_units': 2, 'tier_total': 2, 'tier_current': 1}, {'name': 'TFT12_Mage', 'style': 0, 'num_units': 1, 'tier_total': 4, 'tier_current': 0}, {'name': 'TFT12_Portal', 'style': 0, 'num_units': 2, 'tier_total': 4, 'tier_current': 0}, {'name': 'TFT12_Pyro', 'style': 0, 'num_units': 1, 'tier_total': 4, 'tier_current': 0}, {'name': 'TFT12_Ravenous', 'style': 3, 'num_units': 1, 'tier_total': 1, 'tier_current': 1}, {'name': 'TFT12_Shapeshifter', 'style': 4, 'num_units': 7, 'tier_total': 5, 'tier_current': 3}, {'name': 'TFT12_Witchcraft', 'style': 1, 'num_units': 2, 'tier_total': 4, 'tier_current': 1}], 'augments': ['TFT9_Augment_AllThatShimmers', 'TFT_Augment_InvestedPlus', 'TFT9_Augment_Formation2'], 'gold_left': 1, 'placement': 1, 'username_tagline': 'Dokkri #o7o7'}, 'LemonVip #NA1': {'level': 8, 'puuid': 'cPsZnKQbsDoVBMceGQQuFGAYhaqWaMn5Z5qynSo2OkBt8WG0n9Y-l9pC6IgKq_9uxT_PYVYgRD87gQ', 'units': [{'name': '', 'tier': 1, 'rarity': 1, 'itemNames': [], 'character_id': 'TFT12_Zilean'}, {'name': '', 'tier': 1, 'rarity': 2, 'itemNames': [], 'character_id': 'TFT12_Neeko'}, {'name': '', 'tier': 2, 'rarity': 2, 'itemNames': [], 'character_id': 'TFT12_Bard'}, {'name': '', 'tier': 2, 'rarity': 4, 'itemNames': ['TFT_Item_BlueBuff', 'TFT_Item_Morellonomicon'], 'character_id': 'TFT12_Karma'}, {'name': '', 'tier': 2, 'rarity': 4, 'itemNames': [], 'character_id': 'TFT12_Rakan'}, {'name': '', 'tier': 1, 'rarity': 6, 'itemNames': ['TFT4_Item_OrnnInfinityForce', 'TFT4_Item_OrnnInfinityForce', 'TFT_Item_UnstableConcoction'], 'character_id': 'TFT12_Briar'}, {'name': '', 'tier': 1, 'rarity': 6, 'itemNames': ['TFT_Item_WarmogsArmor', 'TFT_Item_Crownguard'], 'character_id': 'TFT12_Morgana'}, {'name': '', 'tier': 2, 'rarity': 6, 'itemNames': ['TFT4_Item_OrnnZhonyasParadox', 'TFT_Item_PowerGauntlet'], 'character_id': 'TFT12_Xerath'}], 'traits': [{'name': 'TFT12_Arcana', 'style': 0, 'num_units': 1, 'tier_total': 4, 'tier_current': 0}, {'name': 'TFT12_Ascendant', 'style': 3, 'num_units': 1, 'tier_total': 1, 'tier_current': 1}, {'name': 'TFT12_BatQueen', 'style': 3, 'num_units': 1, 'tier_total': 1, 'tier_current': 1}, {'name': 'TFT12_Chrono', 'style': 1, 'num_units': 2, 'tier_total': 3, 'tier_current': 1}, {'name': 'TFT12_Eldritch', 'style': 0, 'num_units': 1, 'tier_total': 4, 'tier_current': 0}, {'name': 'TFT12_Faerie', 'style': 0, 'num_units': 1, 'tier_total': 4, 'tier_current': 0}, {'name': 'TFT12_Frost', 'style': 0, 'num_units': 1, 'tier_total': 4, 'tier_current': 0}, {'name': 'TFT12_Incantor', 'style': 0, 'num_units': 1, 'tier_total': 2, 'tier_current': 0}, {'name': 'TFT12_Preserver', 'style': 2, 'num_units': 4, 'tier_total': 4, 'tier_current': 3}, {'name': 'TFT12_Ravenous', 'style': 3, 'num_units': 1, 'tier_total': 1, 'tier_current': 1}, {'name': 'TFT12_Scholar', 'style': 0, 'num_units': 1, 'tier_total': 3, 'tier_current': 0}, {'name': 'TFT12_Shapeshifter', 'style': 1, 'num_units': 2, 'tier_total': 5, 'tier_current': 1}, {'name': 'TFT12_Sugarcraft', 'style': 0, 'num_units': 1, 'tier_total': 4, 'tier_current': 0}, {'name': 'TFT12_Witchcraft', 'style': 1, 'num_units': 2, 'tier_total': 4, 'tier_current': 1}], 'augments': ['TFT6_Augment_PortableForge', 'TFT9_Augment_PhreakyFridayPlus', 'TFT9_Augment_CombatCaster'], 'gold_left': 1, 'placement': 6, 'username_tagline': 'LemonVip #NA1'}, 'Hi its CQ #NA1': {'level': 9, 'puuid': 'EqRkJHi-dIbWAsNdQO8Kz1o055HIbmEnkJkd6Lkk-ta-HG5HVoJsvI5FrUK38dCLblUyVWau_B_Cow', 'units': [{'name': '', 'tier': 2, 'rarity': 0, 'itemNames': [], 'character_id': 'TFT12_Warwick'}, {'name': '', 'tier': 2, 'rarity': 1, 'itemNames': [], 'character_id': 'TFT12_Zilean'}, {'name': '', 'tier': 2, 'rarity': 1, 'itemNames': [], 'character_id': 'TFT12_Rumble'}, {'name': '', 'tier': 1, 'rarity': 1, 'itemNames': [], 'character_id': 'TFT12_Ahri'}, {'name': '', 'tier': 3, 'rarity': 2, 'itemNames': ['TFT4_Item_OrnnMuramana', 'TFT_Item_Artifact_RapidFirecannon', 'TFT9_Item_OrnnDeathfireGrasp'], 'character_id': 'TFT12_Hwei'}, {'name': '', 'tier': 1, 'rarity': 2, 'itemNames': [], 'character_id': 'TFT12_Bard'}, {'name': '', 'tier': 3, 'rarity': 2, 'itemNames': ['TFT_Item_Artifact_SuspiciousTrenchCoat', 'TFT9_Item_OrnnHullbreaker', 'TFT4_Item_OrnnAnimaVisage'], 'character_id': 'TFT12_Mordekaiser'}, {'name': '', 'tier': 1, 'rarity': 4, 'itemNames': ['TFT_Item_Artifact_HorizonFocus', 'TFT_Item_Artifact_LightshieldCrest', 'TFT9_Item_OrnnTrickstersGlass'], 'character_id': 'TFT12_TahmKench'}, {'name': '', 'tier': 1, 'rarity': 6, 'itemNames': ['TFT4_Item_OrnnMuramana'], 'character_id': 'TFT12_Xerath'}, {'name': '', 'tier': 1, 'rarity': 4, 'itemNames': [], 'character_id': 'TFT12_TahmKench'}], 'traits': [{'name': 'TFT12_Arcana', 'style': 2, 'num_units': 3, 'tier_total': 4, 'tier_current': 2}, {'name': 'TFT12_Ascendant', 'style': 3, 'num_units': 1, 'tier_total': 1, 'tier_current': 1}, {'name': 'TFT12_Blaster', 'style': 1, 'num_units': 2, 'tier_total': 3, 'tier_current': 1}, {'name': 'TFT12_Chrono', 'style': 0, 'num_units': 1, 'tier_total': 3, 'tier_current': 0}, {'name': 'TFT12_Eldritch', 'style': 0, 'num_units': 1, 'tier_total': 4, 'tier_current': 0}, {'name': 'TFT12_Frost', 'style': 1, 'num_units': 3, 'tier_total': 4, 'tier_current': 1}, {'name': 'TFT12_Preserver', 'style': 1, 'num_units': 2, 'tier_total': 4, 'tier_current': 1}, {'name': 'TFT12_Scholar', 'style': 1, 'num_units': 2, 'tier_total': 3, 'tier_current': 1}, {'name': 'TFT12_Sugarcraft', 'style': 1, 'num_units': 2, 'tier_total': 4, 'tier_current': 1}, {'name': 'TFT12_Vanguard', 'style': 2, 'num_units': 4, 'tier_total': 3, 'tier_current': 2}], 'augments': ['TFT11_Augment_RainingGold', 'TFT9_Augment_WhatTheForge', 'TFT9_Augment_OldMansWalkingStick'], 'gold_left': 0, 'placement': 3, 'username_tagline': 'Hi its CQ #NA1'}, 'VIT setsuko #NA2': {'level': 8, 'puuid': 'e62ZthNQBc1bjVfXrjDvNIQV-0Bd7GUeaRv_fiZqx5nc5OXaY6OAmM4wav043AJgxKQShtA1s9IIOg', 'units': [{'name': '', 'tier': 3, 'rarity': 0, 'itemNames': ['TFT4_Item_OrnnMuramana', 'TFT_Item_Leviathan'], 'character_id': 'TFT12_Seraphine'}, {'name': '', 'tier': 3, 'rarity': 0, 'itemNames': ['TFT4_Item_OrnnZhonyasParadox', 'TFT_Item_Artifact_TalismanOfAscension', 'TFT_Item_JeweledGauntlet'], 'character_id': 'TFT12_Soraka'}, {'name': '', 'tier': 2, 'rarity': 1, 'itemNames': ['TFT_Item_DragonsClaw', 'TFT_Item_RedBuff'], 'character_id': 'TFT12_Rumble'}, {'name': '', 'tier': 1, 'rarity': 1, 'itemNames': [], 'character_id': 'TFT12_Galio'}, {'name': '', 'tier': 3, 'rarity': 2, 'itemNames': ['TFT_Item_IonicSpark', 'TFT_Item_Crownguard', 'TFT_Item_BrambleVest'], 'character_id': 'TFT12_Vex'}, {'name': '', 'tier': 1, 'rarity': 2, 'itemNames': [], 'character_id': 'TFT12_Veigar'}, {'name': '', 'tier': 1, 'rarity': 4, 'itemNames': [], 'character_id': 'TFT12_Nami'}, {'name': '', 'tier': 1, 'rarity': 6, 'itemNames': ['TFT_Item_ThiefsGloves', 'TFT_Item_GiantsBelt', 'TFT_Item_SpectralGauntlet'], 'character_id': 'TFT12_Norra'}, {'name': '', 'tier': 1, 'rarity': 9, 'itemNames': [], 'character_id': 'TFT12_Yuumi'}], 'traits': [{'name': 'TFT12_Blaster', 'style': 0, 'num_units': 1, 'tier_total': 3, 'tier_current': 0}, {'name': 'TFT12_Chrono', 'style': 0, 'num_units': 1, 'tier_total': 3, 'tier_current': 0}, {'name': 'TFT12_Eldritch', 'style': 0, 'num_units': 1, 'tier_total': 4, 'tier_current': 0}, {'name': 'TFT12_Explorer', 'style': 3, 'num_units': 1, 'tier_total': 1, 'tier_current': 1}, {'name': 'TFT12_Faerie', 'style': 0, 'num_units': 1, 'tier_total': 4, 'tier_current': 0}, {'name': 'TFT12_Honeymancy', 'style': 0, 'num_units': 1, 'tier_total': 3, 'tier_current': 0}, {'name': 'TFT12_Mage', 'style': 4, 'num_units': 7, 'tier_total': 4, 'tier_current': 3}, {'name': 'TFT12_Portal', 'style': 0, 'num_units': 2, 'tier_total': 4, 'tier_current': 0}, {'name': 'TFT12_Sugarcraft', 'style': 1, 'num_units': 2, 'tier_total': 4, 'tier_current': 1}, {'name': 'TFT12_Vanguard', 'style': 1, 'num_units': 2, 'tier_total': 3, 'tier_current': 1}], 'augments': ['TFT9_Augment_Sleightofhand', 'TFT_Augment_SpellcastersToolbox', 'TFT6_Augment_PortableForge'], 'gold_left': 1, 'placement': 4, 'username_tagline': 'VIT setsuko #NA2'}, 'CodyLovesRolling #NA1': {'level': 10, 'puuid': 'g3kWzOMDKJAGu7vKLczUDt8rj0Cf4agLlE4S19AOCDjARTXd7XvK4H_XYkzSO40Xr9U9y7PiXszSDg', 'units': [{'name': '', 'tier': 3, 'rarity': 0, 'itemNames': ['TFT4_Item_OrnnDeathsDefiance', 'TFT_Item_Artifact_UnendingDespair', 'TFT_Item_Artifact_InnervatingLocket'], 'character_id': 'TFT12_Blitzcrank'}, {'name': '', 'tier': 3, 'rarity': 0, 'itemNames': ['TFT_Item_Artifact_LichBane', 'TFT4_Item_OrnnMuramana', 'TFT4_Item_OrnnZhonyasParadox'], 'character_id': 'TFT12_Ziggs'}, {'name': '', 'tier': 1, 'rarity': 1, 'itemNames': [], 'character_id': 'TFT12_KogMaw'}, {'name': '', 'tier': 3, 'rarity': 1, 'itemNames': ['TFT12_Item_HoneymancyEmblemItem', 'TFT_Item_Artifact_WitsEnd', 'TFT_Item_StatikkShiv'], 'character_id': 'TFT12_Cassiopeia'}, {'name': '', 'tier': 2, 'rarity': 1, 'itemNames': [], 'character_id': 'TFT12_Nunu'}, {'name': '', 'tier': 1, 'rarity': 1, 'itemNames': [], 'character_id': 'TFT12_Ahri'}, {'name': '', 'tier': 2, 'rarity': 2, 'itemNames': [], 'character_id': 'TFT12_Hecarim'}, {'name': '', 'tier': 2, 'rarity': 4, 'itemNames': ['TFT_Item_Artifact_HorizonFocus', 'TFT9_Item_OrnnTrickstersGlass', 'TFT_Item_Artifact_SilvermereDawn'], 'character_id': 'TFT12_TahmKench'}, {'name': '', 'tier': 2, 'rarity': 6, 'itemNames': ['TFT_Item_ArchangelsStaff', 'TFT_Item_MadredsBloodrazor', 'TFT_Item_RabadonsDeathcap'], 'character_id': 'TFT12_Xerath'}, {'name': '', 'tier': 2, 'rarity': 6, 'itemNames': ['TFT7_Item_ShimmerscaleHeartOfGold', 'TFT9_Item_OrnnTrickstersGlass', 'TFT_Item_AdaptiveHelm'], 'character_id': 'TFT12_Milio'}, {'name': '', 'tier': 2, 'rarity': 4, 'itemNames': [], 'character_id': 'TFT12_TahmKench'}, {'name': '', 'tier': 2, 'rarity': 6, 'itemNames': [], 'character_id': 'TFT12_Milio'}], 'traits': [{'name': 'TFT12_Arcana', 'style': 4, 'num_units': 4, 'tier_total': 4, 'tier_current': 3}, {'name': 'TFT12_Ascendant', 'style': 3, 'num_units': 1, 'tier_total': 1, 'tier_current': 1}, {'name': 'TFT12_Bastion', 'style': 1, 'num_units': 2, 'tier_total': 4, 'tier_current': 1}, {'name': 'TFT12_Faerie', 'style': 0, 'num_units': 1, 'tier_total': 4, 'tier_current': 0}, {'name': 'TFT12_Honeymancy', 'style': 4, 'num_units': 5, 'tier_total': 3, 'tier_current': 2}, {'name': 'TFT12_Hunter', 'style': 0, 'num_units': 1, 'tier_total': 3, 'tier_current': 0}, {'name': 'TFT12_Incantor', 'style': 1, 'num_units': 2, 'tier_total': 2, 'tier_current': 1}, {'name': 'TFT12_Multistriker', 'style': 0, 'num_units': 1, 'tier_total': 4, 'tier_current': 0}, {'name': 'TFT12_Scholar', 'style': 1, 'num_units': 2, 'tier_total': 3, 'tier_current': 1}, {'name': 'TFT12_Vanguard', 'style': 1, 'num_units': 2, 'tier_total': 3, 'tier_current': 1}, {'name': 'TFT12_Witchcraft', 'style': 0, 'num_units': 1, 'tier_total': 4, 'tier_current': 0}], 'augments': ['TFT12_Augment_BlitzcrankCarry', 'TFT9_Augment_WhatTheForge', 'TFT_Augment_ExplosiveGrowthPlus'], 'gold_left': 11, 'placement': 2, 'username_tagline': 'CodyLovesRolling #NA1'}, 'tftmobile2837464 #weird': {'level': 8, 'puuid': 'qtw1w8uu6k_ar9KfC8GrQOkpORZeCQPiP8_KVJkbWacEMAlDbS0vD74DQVv--Nyzpi0bFHaoAsK48g', 'units': [{'name': '', 'tier': 2, 'rarity': 0, 'itemNames': [], 'character_id': 'TFT12_Jax'}, {'name': '', 'tier': 2, 'rarity': 1, 'itemNames': ['TFT4_Item_OrnnRanduinsSanctum'], 'character_id': 'TFT12_Kassadin'}, {'name': '', 'tier': 2, 'rarity': 1, 'itemNames': [], 'character_id': 'TFT12_Akali'}, {'name': '', 'tier': 3, 'rarity': 2, 'itemNames': ['TFT_Item_Bloodthirster', 'TFT_Item_TitansResolve', 'TFT_Item_HextechGunblade'], 'character_id': 'TFT12_Hecarim'}, {'name': '', 'tier': 2, 'rarity': 2, 'itemNames': ['TFT_Item_TearOfTheGoddess'], 'character_id': 'TFT12_Shen'}, {'name': '', 'tier': 1, 'rarity': 4, 'itemNames': [], 'character_id': 'TFT12_TahmKench'}, {'name': '', 'tier': 2, 'rarity': 4, 'itemNames': ['TFT_Item_GuinsoosRageblade', 'TFT_Item_Morellonomicon', 'TFT_Item_StatikkShiv'], 'character_id': 'TFT12_Kalista'}, {'name': '', 'tier': 1, 'rarity': 6, 'itemNames': [], 'character_id': 'TFT12_Xerath'}], 'traits': [{'name': 'TFT12_Arcana', 'style': 2, 'num_units': 3, 'tier_total': 4, 'tier_current': 2}, {'name': 'TFT12_Ascendant', 'style': 3, 'num_units': 1, 'tier_total': 1, 'tier_current': 1}, {'name': 'TFT12_Bastion', 'style': 1, 'num_units': 2, 'tier_total': 4, 'tier_current': 1}, {'name': 'TFT12_Chrono', 'style': 0, 'num_units': 1, 'tier_total': 3, 'tier_current': 0}, {'name': 'TFT12_Faerie', 'style': 0, 'num_units': 1, 'tier_total': 4, 'tier_current': 0}, {'name': 'TFT12_Multistriker', 'style': 2, 'num_units': 5, 'tier_total': 4, 'tier_current': 2}, {'name': 'TFT12_Portal', 'style': 0, 'num_units': 1, 'tier_total': 4, 'tier_current': 0}, {'name': 'TFT12_Pyro', 'style': 1, 'num_units': 2, 'tier_total': 4, 'tier_current': 1}, {'name': 'TFT12_Vanguard', 'style': 0, 'num_units': 1, 'tier_total': 3, 'tier_current': 0}, {'name': 'TFT12_Warrior', 'style': 0, 'num_units': 1, 'tier_total': 3, 'tier_current': 0}], 'augments': ['TFT9_Augment_DravenSpoilsOfWar2', 'TFT_Augment_RanduinsImmovableObject', 'TFT10_Augment_HeroicGrabBag'], 'gold_left': 0, 'placement': 7, 'username_tagline': 'tftmobile2837464 #weird'}}, ['Hi its CQ #NA1', 'LemonVip #NA1', 'dpei #NA1', 'tftmobile2837464 #weird', 'VIT setsuko #NA2', 'GÖDLY #NA1', 'Dokkri #o7o7', 'CodyLovesRolling #NA1']]]\n"
     ]
    }
   ],
   "source": [
    "def getStreamerData():\n",
    "    load_dotenv()\n",
    "\n",
    "    # Get the connection string from the environment variable\n",
    "    connection_string = os.getenv('DATABASE_URL')\n",
    "\n",
    "    # Create a connection pool\n",
    "    connection_pool = pool.SimpleConnectionPool(\n",
    "        1,  # Minimum number of connections in the pool\n",
    "        10,  # Maximum number of connections in the pool\n",
    "        connection_string\n",
    "    )\n",
    "\n",
    "    # Check if the pool was created successfully\n",
    "    if connection_pool:\n",
    "        print(\"Connection pool created successfully\")\n",
    "\n",
    "    # Get a connection from the pool\n",
    "    conn = connection_pool.getconn()\n",
    "    conn.autocommit = True\n",
    "\n",
    "    # Create a cursor object\n",
    "    cur = conn.cursor(cursor_factory=DictCursor)\n",
    "\n",
    "    cur.execute(\"SELECT * FROM matches WHERE 'LemonVip #NA1' = ANY(players) ORDER BY game_datetime DESC\")\n",
    "    print(cur.fetchall())\n",
    "\n",
    "    cur.close()\n",
    "    connection_pool.putconn(conn)\n",
    "\n",
    "    # Close all connections in the pool\n",
    "    connection_pool.closeall()\n",
    "\n",
    "getStreamerData()"
   ]
  }
 ],
 "metadata": {
  "kernelspec": {
   "display_name": "Python 3.11.7 64-bit",
   "language": "python",
   "name": "python3"
  },
  "language_info": {
   "codemirror_mode": {
    "name": "ipython",
    "version": 3
   },
   "file_extension": ".py",
   "mimetype": "text/x-python",
   "name": "python",
   "nbconvert_exporter": "python",
   "pygments_lexer": "ipython3",
   "version": "3.11.7"
  },
  "orig_nbformat": 4,
  "vscode": {
   "interpreter": {
    "hash": "b0fa6594d8f4cbf19f97940f81e996739fb7646882a419484c72d19e05852a7e"
   }
  }
 },
 "nbformat": 4,
 "nbformat_minor": 2
}
