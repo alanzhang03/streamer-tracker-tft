{
 "cells": [
  {
   "cell_type": "code",
   "execution_count": 7,
   "metadata": {},
   "outputs": [],
   "source": [
    "api_key = 'RGAPI-314e77e7-1963-4196-96b5-cf8c8d0777b9'"
   ]
  },
  {
   "cell_type": "code",
   "execution_count": 15,
   "metadata": {},
   "outputs": [],
   "source": [
    "import requests\n",
    "import os\n",
    "from psycopg2 import pool\n",
    "from dotenv import load_dotenv\n",
    "from psycopg2.extras import Json, DictCursor\n",
    "import time"
   ]
  },
  {
   "cell_type": "code",
   "execution_count": 9,
   "metadata": {},
   "outputs": [
    {
     "name": "stdout",
     "output_type": "stream",
     "text": [
      "{'puuid': 'R8_dzuvxZm0VsqU-paXM3wijLavgPmiZDmKIHFm8HddnUGvsgHTlCQuWdlHNRJlBIaEFyZYD87Avug', 'gameName': 'clu', 'tagLine': 'clu1'}\n"
     ]
    }
   ],
   "source": [
    "r = requests.get(\"https://americas.api.riotgames.com/riot/account/v1/accounts/by-riot-id/clu/clu1?api_key=\" + api_key)\n",
    "print(r.json())"
   ]
  },
  {
   "cell_type": "code",
   "execution_count": 10,
   "metadata": {},
   "outputs": [],
   "source": [
    "# setsuko, soju, dishsoap\n",
    "streamers = ['e62ZthNQBc1bjVfXrjDvNIQV-0Bd7GUeaRv_fiZqx5nc5OXaY6OAmM4wav043AJgxKQShtA1s9IIOg', 'hVi-4fc19ymaRf4HvUmHNkZCoALJPUXgGKcKGgBlLZTqYZRVtQwglGQCIBj0jou0wA35CcH8sdeEgw', 'NUnja2Bl0CPRiimqr1PesnOnDsxXa6eAg5xRhNVBdxgAzBopnpcWNTZZ9r9YjNhEtf5tx2DkvXdJ9Q']"
   ]
  },
  {
   "cell_type": "code",
   "execution_count": 11,
   "metadata": {},
   "outputs": [],
   "source": [
    "# for streamer_puuid in streamers:\n",
    "#   matches = requests.get(\"https://americas.api.riotgames.com/tft/match/v1/matches/by-puuid/\" + streamer_puuid + \"&api_key=\" + api_key)\n"
   ]
  },
  {
   "cell_type": "code",
   "execution_count": 12,
   "metadata": {},
   "outputs": [
    {
     "name": "stdout",
     "output_type": "stream",
     "text": [
      "Connection pool created successfully\n",
      "Current time: 2024-11-12 00:23:18.013938+00:00\n",
      "PostgreSQL version: PostgreSQL 16.4 on x86_64-pc-linux-gnu, compiled by gcc (Debian 10.2.1-6) 10.2.1 20210110, 64-bit\n"
     ]
    }
   ],
   "source": [
    "\n",
    "\n",
    "# Load .env file\n",
    "load_dotenv()\n",
    "\n",
    "# Get the connection string from the environment variable\n",
    "connection_string = os.getenv('DATABASE_URL')\n",
    "\n",
    "# Create a connection pool\n",
    "connection_pool = pool.SimpleConnectionPool(\n",
    "    1,  # Minimum number of connections in the pool\n",
    "    10,  # Maximum number of connections in the pool\n",
    "    connection_string\n",
    ")\n",
    "\n",
    "# Check if the pool was created successfully\n",
    "if connection_pool:\n",
    "    print(\"Connection pool created successfully\")\n",
    "\n",
    "# Get a connection from the pool\n",
    "conn = connection_pool.getconn()\n",
    "\n",
    "# Create a cursor object\n",
    "cur = conn.cursor()\n",
    "\n",
    "# Execute SQL commands to retrieve the current time and version from PostgreSQL\n",
    "cur.execute('SELECT NOW();')\n",
    "time = cur.fetchone()[0]\n",
    "\n",
    "cur.execute('SELECT version();')\n",
    "version = cur.fetchone()[0]\n",
    "\n",
    "# Close the cursor and return the connection to the pool\n",
    "cur.close()\n",
    "connection_pool.putconn(conn)\n",
    "\n",
    "# Close all connections in the pool\n",
    "connection_pool.closeall()\n",
    "\n",
    "# Print the results\n",
    "print('Current time:', time)\n",
    "print('PostgreSQL version:', version)"
   ]
  },
  {
   "cell_type": "code",
   "execution_count": 16,
   "metadata": {},
   "outputs": [
    {
     "name": "stdout",
     "output_type": "stream",
     "text": [
      "Connection pool created successfully\n",
      "inserted NA1_5131711742\n",
      "inserted NA1_5131694229\n",
      "inserted NA1_5131672537\n",
      "inserted NA1_5131655036\n",
      "inserted NA1_5131632927\n",
      "inserted NA1_5131606528\n",
      "inserted NA1_5131581142\n",
      "inserted NA1_5131554751\n",
      "inserted NA1_5131519989\n",
      "Connection pool created successfully\n",
      "inserted NA1_5143191535\n",
      "sleeping 120s\n",
      "inserted NA1_5143175262\n",
      "inserted NA1_5143164964\n",
      "inserted NA1_5143152150\n",
      "inserted NA1_5143142131\n",
      "inserted NA1_5143127402\n",
      "inserted NA1_5143114553\n",
      "inserted NA1_5139246343\n",
      "inserted NA1_5135873144\n",
      "inserted NA1_5135546046\n",
      "inserted NA1_5135509155\n",
      "inserted NA1_5135470479\n",
      "inserted NA1_5134935794\n",
      "sleeping 120s\n"
     ]
    },
    {
     "ename": "KeyboardInterrupt",
     "evalue": "",
     "output_type": "error",
     "traceback": [
      "\u001b[0;31m---------------------------------------------------------------------------\u001b[0m",
      "\u001b[0;31mKeyboardInterrupt\u001b[0m                         Traceback (most recent call last)",
      "Cell \u001b[0;32mIn[16], line 48\u001b[0m\n\u001b[1;32m     46\u001b[0m \u001b[38;5;28;01melse\u001b[39;00m:\n\u001b[1;32m     47\u001b[0m   \u001b[38;5;28mprint\u001b[39m(\u001b[38;5;124m\"\u001b[39m\u001b[38;5;124msleeping 120s\u001b[39m\u001b[38;5;124m\"\u001b[39m)\n\u001b[0;32m---> 48\u001b[0m   time\u001b[38;5;241m.\u001b[39msleep(\u001b[38;5;241m120\u001b[39m)\n\u001b[1;32m     49\u001b[0m   match_data \u001b[38;5;241m=\u001b[39m requests\u001b[38;5;241m.\u001b[39mget(\u001b[38;5;124m'\u001b[39m\u001b[38;5;124mhttps://americas.api.riotgames.com/tft/match/v1/matches/\u001b[39m\u001b[38;5;124m'\u001b[39m \u001b[38;5;241m+\u001b[39m match \u001b[38;5;241m+\u001b[39m \u001b[38;5;124m'\u001b[39m\u001b[38;5;124m?api_key=\u001b[39m\u001b[38;5;124m'\u001b[39m \u001b[38;5;241m+\u001b[39m api_key)\u001b[38;5;241m.\u001b[39mjson()\n\u001b[1;32m     52\u001b[0m \u001b[38;5;66;03m#get metadata\u001b[39;00m\n",
      "\u001b[0;31mKeyboardInterrupt\u001b[0m: "
     ]
    }
   ],
   "source": [
    "for current_puuid in streamers:\n",
    "  # Connect to the DB\n",
    "  # Load .env file\n",
    "  load_dotenv()\n",
    "\n",
    "  # Get the connection string from the environment variable\n",
    "  connection_string = os.getenv('DATABASE_URL')\n",
    "\n",
    "  # Create a connection pool\n",
    "  connection_pool = pool.SimpleConnectionPool(\n",
    "      1,  # Minimum number of connections in the pool\n",
    "      10,  # Maximum number of connections in the pool\n",
    "      connection_string\n",
    "  )\n",
    "\n",
    "  # Check if the pool was created successfully\n",
    "  if connection_pool:\n",
    "      print(\"Connection pool created successfully\")\n",
    "\n",
    "  # Get a connection from the pool\n",
    "  conn = connection_pool.getconn()\n",
    "  conn.autocommit = True\n",
    "\n",
    "  # Create a cursor object\n",
    "  cur = conn.cursor(cursor_factory=DictCursor)\n",
    "\n",
    "\n",
    "  # get recent match data\n",
    "  matches = requests.get('https://americas.api.riotgames.com/tft/match/v1/matches/by-puuid/' + current_puuid + '/ids?start=0&count=20&api_key=' + api_key).json()\n",
    "\n",
    "  # add each match to the db\n",
    "  for match in matches:\n",
    "    # first check not in the db\n",
    "    \n",
    "    cur.execute('SELECT 1 FROM matches WHERE match_id=%s', (match, ))\n",
    "    if cur.fetchall():\n",
    "      continue\n",
    "    \n",
    "\n",
    "\n",
    "    match_dict = {}\n",
    "    match_data = requests.get('https://americas.api.riotgames.com/tft/match/v1/matches/' + match + '?api_key=' + api_key)\n",
    "\n",
    "    if match_data.ok:\n",
    "      match_data = match_data.json()\n",
    "    else:\n",
    "      print(\"sleeping 120s\")\n",
    "      time.sleep(120)\n",
    "      match_data = requests.get('https://americas.api.riotgames.com/tft/match/v1/matches/' + match + '?api_key=' + api_key).json()\n",
    "\n",
    "\n",
    "    #get metadata\n",
    "    patch = match_data['info']['game_version'][-6:-1]\n",
    "    game_datetime = match_data['info']['game_datetime']\n",
    "\n",
    "    game_information = match_data['info']['participants']\n",
    "    players = []\n",
    "    # print(game_information[0])\n",
    "    for board in game_information:\n",
    "      curr_dict = {}\n",
    "      curr_dict['augments'] = board['augments']\n",
    "      curr_dict['level'] = board['level']\n",
    "      curr_dict['placement'] = board['placement']\n",
    "      curr_dict['traits'] = board['traits']\n",
    "      curr_dict['units'] = board['units']\n",
    "      curr_dict['puuid'] = board['puuid']\n",
    "      curr_dict['gold_left'] = board['gold_left']\n",
    "\n",
    "      r = requests.get('https://americas.api.riotgames.com/riot/account/v1/accounts/by-puuid/' + curr_dict['puuid'] + '?api_key=' + api_key)\n",
    "      if r.ok:\n",
    "        r = r.json()\n",
    "      else:\n",
    "        print(\"sleeping 120s\")\n",
    "        time.sleep(120)\n",
    "        r = requests.get('https://americas.api.riotgames.com/riot/account/v1/accounts/by-puuid/' + curr_dict['puuid'] + '?api_key=' + api_key).json()\n",
    "      curr_dict['username_tagline']= r['gameName'] + ' #' + r[\"tagLine\"]\n",
    "\n",
    "      match_dict[r['gameName'] + ' #' + r[\"tagLine\"]] = curr_dict.copy()\n",
    "      players.append(r['gameName'] + ' #' + r[\"tagLine\"])\n",
    "\n",
    "    # add it into the db\n",
    "  \n",
    "    cur.execute('INSERT into matches (match_id, patch, game_datetime, match_data, players) values (%s, %s, %s, %s, %s)', (match, patch, game_datetime, Json(match_dict), players))\n",
    "    print('inserted', match)\n",
    "\n",
    "\n",
    "\n",
    "  # Commit changes to the db\n",
    "\n",
    "  cur.close()\n",
    "  connection_pool.putconn(conn)\n",
    "\n",
    "  # Close all connections in the pool\n",
    "  connection_pool.closeall()\n"
   ]
  },
  {
   "cell_type": "code",
   "execution_count": 37,
   "metadata": {},
   "outputs": [
    {
     "name": "stdout",
     "output_type": "stream",
     "text": [
      "Connection pool created successfully\n"
     ]
    },
    {
     "ename": "IndexError",
     "evalue": "list index out of range",
     "output_type": "error",
     "traceback": [
      "\u001b[0;31m---------------------------------------------------------------------------\u001b[0m",
      "\u001b[0;31mIndexError\u001b[0m                                Traceback (most recent call last)",
      "Cell \u001b[0;32mIn[37], line 36\u001b[0m\n\u001b[1;32m     34\u001b[0m     \u001b[38;5;28;01mfrom\u001b[39;00m \u001b[38;5;21;01mfunctools\u001b[39;00m \u001b[38;5;28;01mimport\u001b[39;00m reduce\n\u001b[1;32m     35\u001b[0m     \u001b[38;5;28;01mreturn\u001b[39;00m reduce(\u001b[38;5;28;01mlambda\u001b[39;00m x,y :x\u001b[38;5;241m+\u001b[39my , res[page\u001b[38;5;241m*\u001b[39m\u001b[38;5;241m5\u001b[39m:(page\u001b[38;5;241m+\u001b[39m\u001b[38;5;241m1\u001b[39m)\u001b[38;5;241m*\u001b[39m\u001b[38;5;241m5\u001b[39m])\n\u001b[0;32m---> 36\u001b[0m \u001b[43mgetStreamerData\u001b[49m\u001b[43m(\u001b[49m\u001b[38;5;124;43m\"\u001b[39;49m\u001b[38;5;124;43mKnav #NA1\u001b[39;49m\u001b[38;5;124;43m\"\u001b[39;49m\u001b[43m,\u001b[49m\u001b[43m \u001b[49m\u001b[38;5;241;43m0\u001b[39;49m\u001b[43m)\u001b[49m\u001b[43m[\u001b[49m\u001b[38;5;241;43m3\u001b[39;49m\u001b[43m]\u001b[49m\n",
      "\u001b[0;31mIndexError\u001b[0m: list index out of range"
     ]
    }
   ],
   "source": [
    "def getStreamerData(username, page):\n",
    "    page_size = 5\n",
    "    load_dotenv()\n",
    "\n",
    "    # Get the connection string from the environment variable\n",
    "    connection_string = os.getenv('DATABASE_URL')\n",
    "\n",
    "    # Create a connection pool\n",
    "    connection_pool = pool.SimpleConnectionPool(\n",
    "        1,  # Minimum number of connections in the pool\n",
    "        10,  # Maximum number of connections in the pool\n",
    "        connection_string\n",
    "    )\n",
    "\n",
    "    # Check if the pool was created successfully\n",
    "    if connection_pool:\n",
    "        print(\"Connection pool created successfully\")\n",
    "\n",
    "    # Get a connection from the pool\n",
    "    conn = connection_pool.getconn()\n",
    "    conn.autocommit = True\n",
    "\n",
    "    # Create a cursor object\n",
    "    cur = conn.cursor(cursor_factory=DictCursor)\n",
    "\n",
    "    cur.execute(\"SELECT match_data FROM matches WHERE '%s' = ANY(players) ORDER BY game_datetime DESC\" % (username))\n",
    "    res = cur.fetchall()\n",
    "    cur.close()\n",
    "    connection_pool.putconn(conn)\n",
    "\n",
    "    # Close all connections in the pool\n",
    "    connection_pool.closeall()\n",
    "\n",
    "    from functools import reduce\n",
    "    return reduce(lambda x,y :x+y , res[page*5:(page+1)*5])\n",
    "getStreamerData(\"Knav #NA1\", 0)"
   ]
  }
 ],
 "metadata": {
  "kernelspec": {
   "display_name": "Python 3.11.7 64-bit",
   "language": "python",
   "name": "python3"
  },
  "language_info": {
   "codemirror_mode": {
    "name": "ipython",
    "version": 3
   },
   "file_extension": ".py",
   "mimetype": "text/x-python",
   "name": "python",
   "nbconvert_exporter": "python",
   "pygments_lexer": "ipython3",
   "version": "3.11.7"
  },
  "orig_nbformat": 4,
  "vscode": {
   "interpreter": {
    "hash": "b0fa6594d8f4cbf19f97940f81e996739fb7646882a419484c72d19e05852a7e"
   }
  }
 },
 "nbformat": 4,
 "nbformat_minor": 2
}
