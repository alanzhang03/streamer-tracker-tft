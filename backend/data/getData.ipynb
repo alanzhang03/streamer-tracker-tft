{
 "cells": [
  {
   "cell_type": "code",
   "execution_count": 6,
   "metadata": {},
   "outputs": [],
   "source": [
    "api_key = 'RGAPI-3f1c31aa-c78c-4588-8f69-054e020bf77b'"
   ]
  },
  {
   "cell_type": "code",
   "execution_count": 32,
   "metadata": {},
   "outputs": [],
   "source": [
    "import requests\n",
    "import os\n",
    "from psycopg2 import pool\n",
    "from dotenv import load_dotenv\n",
    "from psycopg2.extras import Json, DictCursor"
   ]
  },
  {
   "cell_type": "code",
   "execution_count": 8,
   "metadata": {},
   "outputs": [
    {
     "name": "stdout",
     "output_type": "stream",
     "text": [
      "{'puuid': 'R8_dzuvxZm0VsqU-paXM3wijLavgPmiZDmKIHFm8HddnUGvsgHTlCQuWdlHNRJlBIaEFyZYD87Avug', 'gameName': 'clu', 'tagLine': 'clu1'}\n"
     ]
    }
   ],
   "source": [
    "r = requests.get(\"https://americas.api.riotgames.com/riot/account/v1/accounts/by-riot-id/clu/clu1?api_key=\" + api_key)\n",
    "print(r.json())"
   ]
  },
  {
   "cell_type": "code",
   "execution_count": 9,
   "metadata": {},
   "outputs": [],
   "source": [
    "# setsuko, soju, dishsoap\n",
    "streamers = ['e62ZthNQBc1bjVfXrjDvNIQV-0Bd7GUeaRv_fiZqx5nc5OXaY6OAmM4wav043AJgxKQShtA1s9IIOg', 'hVi-4fc19ymaRf4HvUmHNkZCoALJPUXgGKcKGgBlLZTqYZRVtQwglGQCIBj0jou0wA35CcH8sdeEgw', 'NUnja2Bl0CPRiimqr1PesnOnDsxXa6eAg5xRhNVBdxgAzBopnpcWNTZZ9r9YjNhEtf5tx2DkvXdJ9Q']"
   ]
  },
  {
   "cell_type": "code",
   "execution_count": 10,
   "metadata": {},
   "outputs": [],
   "source": [
    "# for streamer_puuid in streamers:\n",
    "#   matches = requests.get(\"https://americas.api.riotgames.com/tft/match/v1/matches/by-puuid/\" + streamer_puuid + \"&api_key=\" + api_key)\n"
   ]
  },
  {
   "cell_type": "code",
   "execution_count": 31,
   "metadata": {},
   "outputs": [
    {
     "name": "stdout",
     "output_type": "stream",
     "text": [
      "Connection pool created successfully\n",
      "Current time: 2024-11-06 19:30:33.550193+00:00\n",
      "PostgreSQL version: PostgreSQL 16.4 on x86_64-pc-linux-gnu, compiled by gcc (Debian 10.2.1-6) 10.2.1 20210110, 64-bit\n"
     ]
    }
   ],
   "source": [
    "\n",
    "\n",
    "# Load .env file\n",
    "load_dotenv()\n",
    "\n",
    "# Get the connection string from the environment variable\n",
    "connection_string = os.getenv('DATABASE_URL')\n",
    "\n",
    "# Create a connection pool\n",
    "connection_pool = pool.SimpleConnectionPool(\n",
    "    1,  # Minimum number of connections in the pool\n",
    "    10,  # Maximum number of connections in the pool\n",
    "    connection_string\n",
    ")\n",
    "\n",
    "# Check if the pool was created successfully\n",
    "if connection_pool:\n",
    "    print(\"Connection pool created successfully\")\n",
    "\n",
    "# Get a connection from the pool\n",
    "conn = connection_pool.getconn()\n",
    "\n",
    "# Create a cursor object\n",
    "cur = conn.cursor()\n",
    "\n",
    "# Execute SQL commands to retrieve the current time and version from PostgreSQL\n",
    "cur.execute('SELECT NOW();')\n",
    "time = cur.fetchone()[0]\n",
    "\n",
    "cur.execute('SELECT version();')\n",
    "version = cur.fetchone()[0]\n",
    "\n",
    "# Close the cursor and return the connection to the pool\n",
    "cur.close()\n",
    "connection_pool.putconn(conn)\n",
    "\n",
    "# Close all connections in the pool\n",
    "connection_pool.closeall()\n",
    "\n",
    "# Print the results\n",
    "print('Current time:', time)\n",
    "print('PostgreSQL version:', version)"
   ]
  },
  {
   "cell_type": "code",
   "execution_count": 33,
   "metadata": {},
   "outputs": [
    {
     "name": "stdout",
     "output_type": "stream",
     "text": [
      "[{'match_id': 'NA1_5138706817', 'patch': '14.20', 'game_datetime': 1729636996808, 'RamKev #NA1': {'augments': ['TFT9_Augment_ArmyBuilding', 'TFT12_Augment_VanguardCrest', 'TFT9_Augment_Commander_FinalAscension'], 'level': 9, 'placement': 5, 'traits': [{'name': 'TFT12_Arcana', 'num_units': 2, 'style': 1, 'tier_current': 1, 'tier_total': 4}, {'name': 'TFT12_Ascendant', 'num_units': 1, 'style': 5, 'tier_current': 1, 'tier_total': 1}, {'name': 'TFT12_Blaster', 'num_units': 2, 'style': 1, 'tier_current': 1, 'tier_total': 3}, {'name': 'TFT12_Chrono', 'num_units': 1, 'style': 0, 'tier_current': 0, 'tier_total': 3}, {'name': 'TFT12_Eldritch', 'num_units': 1, 'style': 0, 'tier_current': 0, 'tier_total': 4}, {'name': 'TFT12_Frost', 'num_units': 3, 'style': 1, 'tier_current': 1, 'tier_total': 4}, {'name': 'TFT12_Mage', 'num_units': 1, 'style': 0, 'tier_current': 0, 'tier_total': 4}, {'name': 'TFT12_Portal', 'num_units': 1, 'style': 0, 'tier_current': 0, 'tier_total': 4}, {'name': 'TFT12_Preserver', 'num_units': 2, 'style': 1, 'tier_current': 1, 'tier_total': 4}, {'name': 'TFT12_Scholar', 'num_units': 1, 'style': 0, 'tier_current': 0, 'tier_total': 3}, {'name': 'TFT12_Sugarcraft', 'num_units': 2, 'style': 1, 'tier_current': 1, 'tier_total': 3}, {'name': 'TFT12_Vanguard', 'num_units': 6, 'style': 3, 'tier_current': 3, 'tier_total': 3}], 'units': [{'character_id': 'TFT12_Warwick', 'itemNames': [], 'name': '', 'rarity': 0, 'tier': 2}, {'character_id': 'TFT12_Zilean', 'itemNames': ['TFT12_Item_VanguardEmblemItem', 'TFT_Item_StatikkShiv'], 'name': '', 'rarity': 1, 'tier': 2}, {'character_id': 'TFT12_Rumble', 'itemNames': [], 'name': '', 'rarity': 1, 'tier': 2}, {'character_id': 'TFT12_Galio', 'itemNames': [], 'name': '', 'rarity': 1, 'tier': 2}, {'character_id': 'TFT12_Hwei', 'itemNames': ['TFT_Item_SpearOfShojin', 'TFT_Item_JeweledGauntlet', 'TFT_Item_Leviathan'], 'name': '', 'rarity': 2, 'tier': 2}, {'character_id': 'TFT12_Bard', 'itemNames': [], 'name': '', 'rarity': 2, 'tier': 2}, {'character_id': 'TFT12_Mordekaiser', 'itemNames': ['TFT_Item_NightHarvester', 'TFT_Item_Bloodthirster', 'TFT_Item_AdaptiveHelm'], 'name': '', 'rarity': 2, 'tier': 3}, {'character_id': 'TFT12_TahmKench', 'itemNames': ['TFT_Item_Redemption'], 'name': '', 'rarity': 4, 'tier': 1}, {'character_id': 'TFT12_Xerath', 'itemNames': [], 'name': '', 'rarity': 6, 'tier': 1}], 'puuid': 'lq4pPzpA7QAS1pntZCL8kSEWLp82C8HuLggiE3Zd8xRC5OwMq2nfDz4eG3vNqf1wLJTm8qOgjJSetQ', 'gold_left': 1, 'username_tagline': 'RamKev #NA1'}, 'dpei #NA1': {'augments': ['TFT7_Augment_PandorasBench', 'TFT12_Augment_MageCrest', 'TFT_Augment_GiantAndMighty'], 'level': 8, 'placement': 6, 'traits': [{'name': 'TFT12_Blaster', 'num_units': 1, 'style': 0, 'tier_current': 0, 'tier_total': 3}, {'name': 'TFT12_Chrono', 'num_units': 2, 'style': 1, 'tier_current': 1, 'tier_total': 3}, {'name': 'TFT12_Eldritch', 'num_units': 1, 'style': 0, 'tier_current': 0, 'tier_total': 4}, {'name': 'TFT12_Faerie', 'num_units': 1, 'style': 0, 'tier_current': 0, 'tier_total': 4}, {'name': 'TFT12_Frost', 'num_units': 1, 'style': 0, 'tier_current': 0, 'tier_total': 4}, {'name': 'TFT12_Honeymancy', 'num_units': 1, 'style': 0, 'tier_current': 0, 'tier_total': 3}, {'name': 'TFT12_Mage', 'num_units': 7, 'style': 3, 'tier_current': 3, 'tier_total': 4}, {'name': 'TFT12_Portal', 'num_units': 1, 'style': 0, 'tier_current': 0, 'tier_total': 4}, {'name': 'TFT12_Preserver', 'num_units': 1, 'style': 0, 'tier_current': 0, 'tier_total': 4}, {'name': 'TFT12_Sugarcraft', 'num_units': 2, 'style': 1, 'tier_current': 1, 'tier_total': 3}, {'name': 'TFT12_Vanguard', 'num_units': 2, 'style': 1, 'tier_current': 1, 'tier_total': 3}], 'units': [{'character_id': 'TFT12_Seraphine', 'itemNames': [], 'name': '', 'rarity': 0, 'tier': 3}, {'character_id': 'TFT12_Soraka', 'itemNames': ['TFT_Item_RapidFireCannon', 'TFT_Item_JeweledGauntlet', 'TFT_Item_AdaptiveHelm'], 'name': '', 'rarity': 0, 'tier': 3}, {'character_id': 'TFT12_Zilean', 'itemNames': ['TFT12_Item_MageEmblemItem'], 'name': '', 'rarity': 1, 'tier': 1}, {'character_id': 'TFT12_Rumble', 'itemNames': [], 'name': '', 'rarity': 1, 'tier': 1}, {'character_id': 'TFT12_Galio', 'itemNames': [], 'name': '', 'rarity': 1, 'tier': 2}, {'character_id': 'TFT12_Vex', 'itemNames': ['TFT_Item_IonicSpark', 'TFT_Item_AdaptiveHelm', 'TFT_Item_Crownguard'], 'name': '', 'rarity': 2, 'tier': 2}, {'character_id': 'TFT12_Veigar', 'itemNames': [], 'name': '', 'rarity': 2, 'tier': 3}, {'character_id': 'TFT12_Nami', 'itemNames': [], 'name': '', 'rarity': 4, 'tier': 1}], 'puuid': 'Ctdg9v14pJY9rfdm5NgsLLi8y6D6676p4_wVY6mK127H3IaYD479zKbLg-MdcvXQ5C5oZ0lzyceDdg', 'gold_left': 1, 'username_tagline': 'dpei #NA1'}, 'Luqun #NA1': {'augments': ['TFT7_Augment_AFK', 'TFT9_Augment_CombatCaster', 'TFT11_Augment_Calltochaos'], 'level': 9, 'placement': 7, 'traits': [{'name': 'TFT12_Arcana', 'num_units': 2, 'style': 1, 'tier_current': 1, 'tier_total': 4}, {'name': 'TFT12_Bastion', 'num_units': 2, 'style': 1, 'tier_current': 1, 'tier_total': 4}, {'name': 'TFT12_Blaster', 'num_units': 6, 'style': 3, 'tier_current': 3, 'tier_total': 3}, {'name': 'TFT12_Dragon', 'num_units': 1, 'style': 0, 'tier_current': 0, 'tier_total': 2}, {'name': 'TFT12_Faerie', 'num_units': 1, 'style': 0, 'tier_current': 0, 'tier_total': 4}, {'name': 'TFT12_Frost', 'num_units': 1, 'style': 0, 'tier_current': 0, 'tier_total': 4}, {'name': 'TFT12_Multistriker', 'num_units': 1, 'style': 0, 'tier_current': 0, 'tier_total': 4}, {'name': 'TFT12_Portal', 'num_units': 1, 'style': 0, 'tier_current': 0, 'tier_total': 4}, {'name': 'TFT12_Pyro', 'num_units': 2, 'style': 1, 'tier_current': 1, 'tier_total': 4}, {'name': 'TFT12_Sugarcraft', 'num_units': 1, 'style': 0, 'tier_current': 0, 'tier_total': 3}, {'name': 'TFT12_Vanguard', 'num_units': 2, 'style': 1, 'tier_current': 1, 'tier_total': 3}], 'units': [{'character_id': 'TFT12_Tristana', 'itemNames': [], 'name': '', 'rarity': 1, 'tier': 2}, {'character_id': 'TFT12_Rumble', 'itemNames': [], 'name': '', 'rarity': 1, 'tier': 2}, {'character_id': 'TFT12_Hwei', 'itemNames': ['TFT_Item_JeweledGauntlet', 'TFT_Item_RapidFireCannon', 'TFT_Item_ArchangelsStaff'], 'name': '', 'rarity': 2, 'tier': 3}, {'character_id': 'TFT12_Hecarim', 'itemNames': [], 'name': '', 'rarity': 2, 'tier': 1}, {'character_id': 'TFT12_Ezreal', 'itemNames': [], 'name': '', 'rarity': 2, 'tier': 2}, {'character_id': 'TFT12_Shen', 'itemNames': ['TFT_Item_IonicSpark', 'TFT_Item_Crownguard', 'TFT_Item_SpectralGauntlet'], 'name': '', 'rarity': 2, 'tier': 2}, {'character_id': 'TFT12_TahmKench', 'itemNames': [], 'name': '', 'rarity': 4, 'tier': 1}, {'character_id': 'TFT12_Varus', 'itemNames': [], 'name': '', 'rarity': 4, 'tier': 1}, {'character_id': 'TFT12_Smolder', 'itemNames': [], 'name': '', 'rarity': 6, 'tier': 1}], 'puuid': 'BkTvkef67UiSCc3jXPaWeWjWA3YMTMqqGmbOeg3Ar41WqvHxyXcDJo719VChMpKTTCKLs0V819O8yA', 'gold_left': 0, 'username_tagline': 'Luqun #NA1'}, 'Xnieamo #NA1': {'augments': ['TFT11_Augment_OverEncumbered', 'TFT_Augment_DawnbringersBlessing2', 'TFT_Augment_ImTheCarryNow'], 'level': 9, 'placement': 1, 'traits': [{'name': 'TFT12_Arcana', 'num_units': 1, 'style': 0, 'tier_current': 0, 'tier_total': 4}, {'name': 'TFT12_Bastion', 'num_units': 2, 'style': 1, 'tier_current': 1, 'tier_total': 4}, {'name': 'TFT12_BatQueen', 'num_units': 1, 'style': 5, 'tier_current': 1, 'tier_total': 1}, {'name': 'TFT12_Chrono', 'num_units': 2, 'style': 1, 'tier_current': 1, 'tier_total': 3}, {'name': 'TFT12_Faerie', 'num_units': 5, 'style': 2, 'tier_current': 2, 'tier_total': 4}, {'name': 'TFT12_Frost', 'num_units': 1, 'style': 0, 'tier_current': 0, 'tier_total': 4}, {'name': 'TFT12_Multistriker', 'num_units': 3, 'style': 1, 'tier_current': 1, 'tier_total': 4}, {'name': 'TFT12_Preserver', 'num_units': 3, 'style': 2, 'tier_current': 2, 'tier_total': 4}, {'name': 'TFT12_Scholar', 'num_units': 1, 'style': 0, 'tier_current': 0, 'tier_total': 3}, {'name': 'TFT12_Warrior', 'num_units': 1, 'style': 0, 'tier_current': 0, 'tier_total': 3}, {'name': 'TFT12_Witchcraft', 'num_units': 1, 'style': 0, 'tier_current': 0, 'tier_total': 4}], 'units': [{'character_id': 'TFT12_Lillia', 'itemNames': [], 'name': '', 'rarity': 0, 'tier': 2}, {'character_id': 'TFT12_Zilean', 'itemNames': ['TFT_Item_ArchangelsStaff'], 'name': '', 'rarity': 1, 'tier': 2}, {'character_id': 'TFT12_Katarina', 'itemNames': ['TFT_Item_ThiefsGloves', 'TFT_Item_NightHarvester', 'TFT_Item_ArchangelsStaff'], 'name': '', 'rarity': 2, 'tier': 2}, {'character_id': 'TFT12_Hecarim', 'itemNames': ['TFT_Item_SteraksGage', 'TFT_Item_MadredsBloodrazor'], 'name': '', 'rarity': 2, 'tier': 2}, {'character_id': 'TFT12_Rakan', 'itemNames': ['TFT_Item_WarmogsArmor', 'TFT12_Item_Faerie_Armor', 'TFT_Item_GargoyleStoneplate'], 'name': '', 'rarity': 4, 'tier': 2}, {'character_id': 'TFT12_Kalista', 'itemNames': ['TFT12_Item_Faerie_QueensCrown', 'TFT_Item_GuinsoosRageblade', 'TFT_Item_GuinsoosRageblade'], 'name': '', 'rarity': 4, 'tier': 2}, {'character_id': 'TFT12_Camille', 'itemNames': ['TFT_Item_Quicksilver', 'TFT_Item_UnstableConcoction', 'TFT_Item_LastWhisper'], 'name': '', 'rarity': 6, 'tier': 2}, {'character_id': 'TFT12_Morgana', 'itemNames': ['TFT_Item_ThiefsGloves', 'TFT_Item_DragonsClaw', 'TFT_Item_Deathblade'], 'name': '', 'rarity': 6, 'tier': 2}, {'character_id': 'TFT12_Milio', 'itemNames': ['TFT_Item_SpearOfShojin', 'TFT_Item_GuinsoosRageblade', 'TFT_Item_LastWhisper'], 'name': '', 'rarity': 6, 'tier': 1}], 'puuid': 'LKQyyQwnAsfHCAvel7Q5B87CJHeHckVWYAoTjtNmifhi1bYQvPQHsDXLCPZ0aavPvVnsLyYnLDp2QQ', 'gold_left': 25, 'username_tagline': 'Xnieamo #NA1'}, 'EMITWOHS #NA2': {'augments': ['TFT_Augment_PerfectLoss', 'TFT9_Augment_SupportCache', 'TFT9_Augment_Commander_FinalAscension'], 'level': 9, 'placement': 2, 'traits': [{'name': 'TFT12_Blaster', 'num_units': 2, 'style': 1, 'tier_current': 1, 'tier_total': 3}, {'name': 'TFT12_Dragon', 'num_units': 3, 'style': 3, 'tier_current': 2, 'tier_total': 2}, {'name': 'TFT12_Eldritch', 'num_units': 1, 'style': 0, 'tier_current': 0, 'tier_total': 4}, {'name': 'TFT12_Frost', 'num_units': 1, 'style': 0, 'tier_current': 0, 'tier_total': 4}, {'name': 'TFT12_Hunter', 'num_units': 1, 'style': 0, 'tier_current': 0, 'tier_total': 3}, {'name': 'TFT12_Portal', 'num_units': 1, 'style': 0, 'tier_current': 0, 'tier_total': 4}, {'name': 'TFT12_Pyro', 'num_units': 2, 'style': 1, 'tier_current': 1, 'tier_total': 4}, {'name': 'TFT12_Ravenous', 'num_units': 1, 'style': 5, 'tier_current': 1, 'tier_total': 1}, {'name': 'TFT12_Shapeshifter', 'num_units': 6, 'style': 3, 'tier_current': 3, 'tier_total': 4}, {'name': 'TFT12_Witchcraft', 'num_units': 1, 'style': 0, 'tier_current': 0, 'tier_total': 4}], 'units': [{'character_id': 'TFT12_Nomsy', 'itemNames': [], 'name': '', 'rarity': 0, 'tier': 2}, {'character_id': 'TFT12_Jayce', 'itemNames': [], 'name': '', 'rarity': 0, 'tier': 2}, {'character_id': 'TFT12_Shyvana', 'itemNames': [], 'name': '', 'rarity': 1, 'tier': 2}, {'character_id': 'TFT12_Swain', 'itemNames': ['TFT_Item_Redemption', 'TFT_Item_SpectralGauntlet'], 'name': '', 'rarity': 2, 'tier': 2}, {'character_id': 'TFT12_Neeko', 'itemNames': ['TFT_Item_Shroud'], 'name': '', 'rarity': 2, 'tier': 2}, {'character_id': 'TFT12_Nasus', 'itemNames': [], 'name': '', 'rarity': 4, 'tier': 2}, {'character_id': 'TFT12_Varus', 'itemNames': [], 'name': '', 'rarity': 4, 'tier': 1}, {'character_id': 'TFT12_Smolder', 'itemNames': ['TFT_Item_MadredsBloodrazor', 'TFT_Item_GuardianAngel', 'TFT_Item_Leviathan'], 'name': '', 'rarity': 6, 'tier': 2}, {'character_id': 'TFT12_Briar', 'itemNames': ['TFT_Item_TitansResolve', 'TFT_Item_UnstableConcoction', 'TFT_Item_TitansResolve'], 'name': '', 'rarity': 6, 'tier': 2}], 'puuid': 'n5Qa_fpv1NiM05q81TcbH3FdIj9hKfArG_OwZICsVRhFhuY99j8tlm2OPE58HKRluYjJJPhoZr8_9Q', 'gold_left': 5, 'username_tagline': 'EMITWOHS #NA2'}, 'VIT setsuko #NA2': {'augments': ['TFT9_Augment_BardPlaybook1', 'TFT11_Augment_EpochPlus'], 'level': 6, 'placement': 8, 'traits': [{'name': 'TFT12_Bastion', 'num_units': 1, 'style': 0, 'tier_current': 0, 'tier_total': 4}, {'name': 'TFT12_Blaster', 'num_units': 1, 'style': 0, 'tier_current': 0, 'tier_total': 3}, {'name': 'TFT12_Druid', 'num_units': 1, 'style': 3, 'tier_current': 1, 'tier_total': 1}, {'name': 'TFT12_Mage', 'num_units': 1, 'style': 0, 'tier_current': 0, 'tier_total': 4}, {'name': 'TFT12_Portal', 'num_units': 2, 'style': 0, 'tier_current': 0, 'tier_total': 4}, {'name': 'TFT12_Scholar', 'num_units': 1, 'style': 0, 'tier_current': 0, 'tier_total': 3}, {'name': 'TFT12_Sugarcraft', 'num_units': 1, 'style': 0, 'tier_current': 0, 'tier_total': 3}, {'name': 'TFT12_Vanguard', 'num_units': 2, 'style': 1, 'tier_current': 1, 'tier_total': 3}, {'name': 'TFT12_Witchcraft', 'num_units': 2, 'style': 1, 'tier_current': 1, 'tier_total': 4}], 'units': [{'character_id': 'TFT12_Zoe', 'itemNames': [], 'name': '', 'rarity': 0, 'tier': 1}, {'character_id': 'TFT12_Zoe', 'itemNames': [], 'name': '', 'rarity': 0, 'tier': 1}, {'character_id': 'TFT12_Poppy', 'itemNames': [], 'name': '', 'rarity': 0, 'tier': 1}, {'character_id': 'TFT12_Rumble', 'itemNames': [], 'name': '', 'rarity': 1, 'tier': 1}, {'character_id': 'TFT12_Galio', 'itemNames': [], 'name': '', 'rarity': 1, 'tier': 1}, {'character_id': 'TFT12_Wukong', 'itemNames': [], 'name': '', 'rarity': 2, 'tier': 1}], 'puuid': 'e62ZthNQBc1bjVfXrjDvNIQV-0Bd7GUeaRv_fiZqx5nc5OXaY6OAmM4wav043AJgxKQShtA1s9IIOg', 'gold_left': 124, 'username_tagline': 'VIT setsuko #NA2'}, 'VIT prestivent #123': {'augments': ['TFT_Augment_BeggarsCanBeChoosers', 'TFT_Augment_HighVoltage', 'TFT_Augment_BlossomingLotus2'], 'level': 9, 'placement': 3, 'traits': [{'name': 'TFT12_Blaster', 'num_units': 2, 'style': 1, 'tier_current': 1, 'tier_total': 3}, {'name': 'TFT12_Dragon', 'num_units': 3, 'style': 3, 'tier_current': 2, 'tier_total': 2}, {'name': 'TFT12_Eldritch', 'num_units': 2, 'style': 0, 'tier_current': 0, 'tier_total': 4}, {'name': 'TFT12_Frost', 'num_units': 1, 'style': 0, 'tier_current': 0, 'tier_total': 4}, {'name': 'TFT12_Hunter', 'num_units': 1, 'style': 0, 'tier_current': 0, 'tier_total': 3}, {'name': 'TFT12_Pyro', 'num_units': 2, 'style': 1, 'tier_current': 1, 'tier_total': 4}, {'name': 'TFT12_Ravenous', 'num_units': 1, 'style': 5, 'tier_current': 1, 'tier_total': 1}, {'name': 'TFT12_Shapeshifter', 'num_units': 6, 'style': 3, 'tier_current': 3, 'tier_total': 4}, {'name': 'TFT12_Witchcraft', 'num_units': 1, 'style': 0, 'tier_current': 0, 'tier_total': 4}], 'units': [{'character_id': 'TFT12_Nomsy', 'itemNames': [], 'name': '', 'rarity': 0, 'tier': 1}, {'character_id': 'TFT12_Elise', 'itemNames': [], 'name': '', 'rarity': 0, 'tier': 2}, {'character_id': 'TFT12_Shyvana', 'itemNames': ['TFT_Item_IonicSpark', 'TFT_Item_FrozenHeart', 'TFT_Item_Bloodthirster'], 'name': '', 'rarity': 1, 'tier': 2}, {'character_id': 'TFT12_Swain', 'itemNames': [], 'name': '', 'rarity': 2, 'tier': 2}, {'character_id': 'TFT12_Neeko', 'itemNames': [], 'name': '', 'rarity': 2, 'tier': 2}, {'character_id': 'TFT12_Nasus', 'itemNames': [], 'name': '', 'rarity': 4, 'tier': 2}, {'character_id': 'TFT12_Varus', 'itemNames': ['TFT_Item_Deathblade'], 'name': '', 'rarity': 4, 'tier': 2}, {'character_id': 'TFT12_Smolder', 'itemNames': ['TFT_Item_InfinityEdge', 'TFT_Item_LastWhisper', 'TFT_Item_PowerGauntlet'], 'name': '', 'rarity': 6, 'tier': 2}, {'character_id': 'TFT12_Briar', 'itemNames': ['TFT_Item_FrozenHeart', 'TFT_Item_Bloodthirster'], 'name': '', 'rarity': 6, 'tier': 1}], 'puuid': 'eKjjzD_AfkFNwrV9vVy1akyGTpE_mHM9nSAlTSk8iSfFFbhk24iqMr-ZZHdh4IakR2NwNqUILr5sGg', 'gold_left': 0, 'username_tagline': 'VIT prestivent #123'}, 'BEE KelMayusi #KelNA': {'augments': ['TFT6_Augment_ItemGrabBag1', 'TFT11_Augment_RainingGoldPlus', 'TFT9_Augment_Commander_FinalAscension'], 'level': 9, 'placement': 4, 'traits': [{'name': 'TFT12_Arcana', 'num_units': 4, 'style': 3, 'tier_current': 3, 'tier_total': 4}, {'name': 'TFT12_Ascendant', 'num_units': 1, 'style': 5, 'tier_current': 1, 'tier_total': 1}, {'name': 'TFT12_Bastion', 'num_units': 2, 'style': 1, 'tier_current': 1, 'tier_total': 4}, {'name': 'TFT12_BatQueen', 'num_units': 1, 'style': 5, 'tier_current': 1, 'tier_total': 1}, {'name': 'TFT12_Blaster', 'num_units': 2, 'style': 1, 'tier_current': 1, 'tier_total': 3}, {'name': 'TFT12_Multistriker', 'num_units': 1, 'style': 0, 'tier_current': 0, 'tier_total': 4}, {'name': 'TFT12_Preserver', 'num_units': 2, 'style': 1, 'tier_current': 1, 'tier_total': 4}, {'name': 'TFT12_Pyro', 'num_units': 2, 'style': 1, 'tier_current': 1, 'tier_total': 4}, {'name': 'TFT12_Scholar', 'num_units': 2, 'style': 1, 'tier_current': 1, 'tier_total': 3}, {'name': 'TFT12_Sugarcraft', 'num_units': 2, 'style': 1, 'tier_current': 1, 'tier_total': 3}, {'name': 'TFT12_Vanguard', 'num_units': 2, 'style': 1, 'tier_current': 1, 'tier_total': 3}, {'name': 'TFT12_Witchcraft', 'num_units': 2, 'style': 1, 'tier_current': 1, 'tier_total': 4}], 'units': [{'character_id': 'TFT12_Rumble', 'itemNames': [], 'name': '', 'rarity': 1, 'tier': 2}, {'character_id': 'TFT12_Ahri', 'itemNames': ['TFT12_Item_WitchcraftEmblemItem'], 'name': '', 'rarity': 1, 'tier': 2}, {'character_id': 'TFT12_Hecarim', 'itemNames': [], 'name': '', 'rarity': 2, 'tier': 2}, {'character_id': 'TFT12_Bard', 'itemNames': [], 'name': '', 'rarity': 2, 'tier': 2}, {'character_id': 'TFT12_Shen', 'itemNames': [], 'name': '', 'rarity': 2, 'tier': 2}, {'character_id': 'TFT12_TahmKench', 'itemNames': ['TFT_Item_RedBuff', 'TFT_Item_SpectralGauntlet', 'TFT_Item_Crownguard'], 'name': '', 'rarity': 4, 'tier': 2}, {'character_id': 'TFT12_Varus', 'itemNames': ['TFT_Item_Deathblade', 'TFT_Item_InfinityEdge', 'TFT_Item_InfinityEdge'], 'name': '', 'rarity': 4, 'tier': 2}, {'character_id': 'TFT12_Morgana', 'itemNames': ['TFT_Item_Bloodthirster', 'TFT_Item_MadredsBloodrazor'], 'name': '', 'rarity': 6, 'tier': 1}, {'character_id': 'TFT12_Xerath', 'itemNames': [], 'name': '', 'rarity': 6, 'tier': 1}], 'puuid': 'T2clNCqRttI1Nb5pSEVkewqw6OnW2ANIYmFt4xISXQ-lo7SKANdlVxC3kYhGh3viHpRpzMF48FZdrg', 'gold_left': 1, 'username_tagline': 'BEE KelMayusi #KelNA'}}]\n"
     ]
    }
   ],
   "source": [
    "current_puuid = streamers[0]\n",
    "\n",
    "# get recent match data\n",
    "matches = requests.get('https://americas.api.riotgames.com/tft/match/v1/matches/by-puuid/' + current_puuid + '/ids?start=0&count=20&api_key=' + api_key).json()\n",
    "\n",
    "# check that matches are not already in db\n",
    "# later :D:D:D\n",
    "\n",
    "# get the stuff\n",
    "# define carries and tier\n",
    "carries = []\n",
    "match_dict_array = []\n",
    "for match in matches:\n",
    "  match_dict = {}\n",
    "  match_dict['match_id'] = match\n",
    "  match_data = requests.get('https://americas.api.riotgames.com/tft/match/v1/matches/' + match + '?api_key=' + api_key).json()\n",
    "\n",
    "\n",
    "  #get metadata\n",
    "  match_dict['patch'] = match_data['info']['game_version'][-6:-1]\n",
    "  match_dict['game_datetime'] = match_data['info']['game_datetime']\n",
    "\n",
    "  game_information = match_data['info']['participants']\n",
    "  # print(game_information[0])\n",
    "  for board in game_information:\n",
    "    curr_dict = {}\n",
    "    curr_dict['augments'] = board['augments']\n",
    "    curr_dict['level'] = board['level']\n",
    "    curr_dict['placement'] = board['placement']\n",
    "    curr_dict['traits'] = board['traits']\n",
    "    curr_dict['units'] = board['units']\n",
    "    curr_dict['puuid'] = board['puuid']\n",
    "    curr_dict['gold_left'] = board['gold_left']\n",
    "\n",
    "    r = requests.get('https://americas.api.riotgames.com/riot/account/v1/accounts/by-puuid/' + curr_dict['puuid'] + '?api_key=' + api_key).json()\n",
    "    curr_dict['username_tagline']= r['gameName'] + ' #' + r[\"tagLine\"]\n",
    "\n",
    "    match_dict[r['gameName'] + ' #' + r[\"tagLine\"]] = curr_dict.copy()\n",
    "  \n",
    "    # figure out what comp they are playing\n",
    "\n",
    "  # insert into match dict array\n",
    "  match_dict_array.append(match_dict)\n",
    "    \n",
    "\n",
    "\n",
    "\n",
    "\n",
    "\n",
    "  break\n",
    "print(match_dict_array)"
   ]
  },
  {
   "cell_type": "code",
   "execution_count": 55,
   "metadata": {},
   "outputs": [
    {
     "name": "stdout",
     "output_type": "stream",
     "text": [
      "Connection pool created successfully\n"
     ]
    },
    {
     "ename": "UniqueViolation",
     "evalue": "duplicate key value violates unique constraint \"matches_pkey\"\nDETAIL:  Key (match_id)=(NA1_5138706817) already exists.\n",
     "output_type": "error",
     "traceback": [
      "\u001b[0;31m---------------------------------------------------------------------------\u001b[0m",
      "\u001b[0;31mUniqueViolation\u001b[0m                           Traceback (most recent call last)",
      "Cell \u001b[0;32mIn[55], line 26\u001b[0m\n\u001b[1;32m     22\u001b[0m cur \u001b[38;5;241m=\u001b[39m conn\u001b[38;5;241m.\u001b[39mcursor(cursor_factory\u001b[38;5;241m=\u001b[39mDictCursor)\n\u001b[1;32m     25\u001b[0m \u001b[38;5;28;01mfor\u001b[39;00m match \u001b[38;5;129;01min\u001b[39;00m match_dict_array:\n\u001b[0;32m---> 26\u001b[0m   \u001b[43mcur\u001b[49m\u001b[38;5;241;43m.\u001b[39;49m\u001b[43mexecute\u001b[49m\u001b[43m(\u001b[49m\u001b[38;5;124;43m'\u001b[39;49m\u001b[38;5;124;43mINSERT into matches (match_id, patch, match_data) values (\u001b[39;49m\u001b[38;5;132;43;01m%s\u001b[39;49;00m\u001b[38;5;124;43m, \u001b[39;49m\u001b[38;5;132;43;01m%s\u001b[39;49;00m\u001b[38;5;124;43m, \u001b[39;49m\u001b[38;5;132;43;01m%s\u001b[39;49;00m\u001b[38;5;124;43m)\u001b[39;49m\u001b[38;5;124;43m'\u001b[39;49m\u001b[43m,\u001b[49m\n\u001b[1;32m     27\u001b[0m \u001b[43m    \u001b[49m\u001b[43m[\u001b[49m\u001b[43mmatch\u001b[49m\u001b[43m[\u001b[49m\u001b[38;5;124;43m'\u001b[39;49m\u001b[38;5;124;43mmatch_id\u001b[39;49m\u001b[38;5;124;43m'\u001b[39;49m\u001b[43m]\u001b[49m\u001b[43m,\u001b[49m\u001b[43m \u001b[49m\u001b[43mmatch\u001b[49m\u001b[43m[\u001b[49m\u001b[38;5;124;43m'\u001b[39;49m\u001b[38;5;124;43mpatch\u001b[39;49m\u001b[38;5;124;43m'\u001b[39;49m\u001b[43m]\u001b[49m\u001b[43m,\u001b[49m\u001b[43m \u001b[49m\u001b[43mJson\u001b[49m\u001b[43m(\u001b[49m\u001b[43mmatch\u001b[49m\u001b[43m)\u001b[49m\u001b[43m]\u001b[49m\u001b[43m)\u001b[49m\n\u001b[1;32m     30\u001b[0m conn\u001b[38;5;241m.\u001b[39mcommit()\n\u001b[1;32m     32\u001b[0m cur\u001b[38;5;241m.\u001b[39mclose()\n",
      "File \u001b[0;32m/opt/homebrew/lib/python3.11/site-packages/psycopg2/extras.py:146\u001b[0m, in \u001b[0;36mDictCursor.execute\u001b[0;34m(self, query, vars)\u001b[0m\n\u001b[1;32m    144\u001b[0m \u001b[39mself\u001b[39m\u001b[39m.\u001b[39mindex \u001b[39m=\u001b[39m OrderedDict()\n\u001b[1;32m    145\u001b[0m \u001b[39mself\u001b[39m\u001b[39m.\u001b[39m_query_executed \u001b[39m=\u001b[39m \u001b[39mTrue\u001b[39;00m\n\u001b[0;32m--> 146\u001b[0m \u001b[39mreturn\u001b[39;00m \u001b[39msuper\u001b[39;49m()\u001b[39m.\u001b[39;49mexecute(query, \u001b[39mvars\u001b[39;49m)\n",
      "\u001b[0;31mUniqueViolation\u001b[0m: duplicate key value violates unique constraint \"matches_pkey\"\nDETAIL:  Key (match_id)=(NA1_5138706817) already exists.\n"
     ]
    }
   ],
   "source": [
    "# Load .env file\n",
    "load_dotenv()\n",
    "\n",
    "# Get the connection string from the environment variable\n",
    "connection_string = os.getenv('DATABASE_URL')\n",
    "\n",
    "# Create a connection pool\n",
    "connection_pool = pool.SimpleConnectionPool(\n",
    "    1,  # Minimum number of connections in the pool\n",
    "    10,  # Maximum number of connections in the pool\n",
    "    connection_string\n",
    ")\n",
    "\n",
    "# Check if the pool was created successfully\n",
    "if connection_pool:\n",
    "    print(\"Connection pool created successfully\")\n",
    "\n",
    "# Get a connection from the pool\n",
    "conn = connection_pool.getconn()\n",
    "\n",
    "# Create a cursor object\n",
    "cur = conn.cursor(cursor_factory=DictCursor)\n",
    "\n",
    "\n",
    "for match in match_dict_array:\n",
    "  cur.execute('INSERT into matches (match_id, patch, match_data) values (%s, %s, %s)',\n",
    "    [match['match_id'], match['patch'], Json(match)])\n",
    "\n",
    "\n",
    "conn.commit()\n",
    "\n",
    "cur.close()\n",
    "connection_pool.putconn(conn)\n",
    "\n",
    "# Close all connections in the pool\n",
    "connection_pool.closeall()"
   ]
  }
 ],
 "metadata": {
  "kernelspec": {
   "display_name": "Python 3.11.7 64-bit",
   "language": "python",
   "name": "python3"
  },
  "language_info": {
   "codemirror_mode": {
    "name": "ipython",
    "version": 3
   },
   "file_extension": ".py",
   "mimetype": "text/x-python",
   "name": "python",
   "nbconvert_exporter": "python",
   "pygments_lexer": "ipython3",
   "version": "3.11.7"
  },
  "orig_nbformat": 4,
  "vscode": {
   "interpreter": {
    "hash": "b0fa6594d8f4cbf19f97940f81e996739fb7646882a419484c72d19e05852a7e"
   }
  }
 },
 "nbformat": 4,
 "nbformat_minor": 2
}
